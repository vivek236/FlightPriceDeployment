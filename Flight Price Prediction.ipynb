{
 "cells": [
  {
   "cell_type": "code",
   "execution_count": 1,
   "id": "aeee9d33",
   "metadata": {},
   "outputs": [],
   "source": [
    "import pandas as pd\n",
    "import numpy as np\n",
    "import matplotlib.pyplot as plt\n",
    "import seaborn as sns\n",
    "import warnings \n",
    "warnings.filterwarnings(\"ignore\")"
   ]
  },
  {
   "cell_type": "markdown",
   "id": "48e1850f",
   "metadata": {},
   "source": [
    "### Data Reading "
   ]
  },
  {
   "cell_type": "code",
   "execution_count": 2,
   "id": "7c2ffca6",
   "metadata": {},
   "outputs": [],
   "source": [
    "df1 = pd.read_csv(\"economy..csv\")\n",
    "df2 = pd.read_csv(\"busines.csv\")"
   ]
  },
  {
   "cell_type": "code",
   "execution_count": 3,
   "id": "2857ba94",
   "metadata": {},
   "outputs": [
    {
     "data": {
      "text/html": [
       "<div>\n",
       "<style scoped>\n",
       "    .dataframe tbody tr th:only-of-type {\n",
       "        vertical-align: middle;\n",
       "    }\n",
       "\n",
       "    .dataframe tbody tr th {\n",
       "        vertical-align: top;\n",
       "    }\n",
       "\n",
       "    .dataframe thead th {\n",
       "        text-align: right;\n",
       "    }\n",
       "</style>\n",
       "<table border=\"1\" class=\"dataframe\">\n",
       "  <thead>\n",
       "    <tr style=\"text-align: right;\">\n",
       "      <th></th>\n",
       "      <th>date</th>\n",
       "      <th>airline</th>\n",
       "      <th>ch_code</th>\n",
       "      <th>num_code</th>\n",
       "      <th>dep_time</th>\n",
       "      <th>from</th>\n",
       "      <th>time_taken</th>\n",
       "      <th>stop</th>\n",
       "      <th>arr_time</th>\n",
       "      <th>to</th>\n",
       "      <th>price</th>\n",
       "    </tr>\n",
       "  </thead>\n",
       "  <tbody>\n",
       "    <tr>\n",
       "      <th>0</th>\n",
       "      <td>11-02-2022</td>\n",
       "      <td>SpiceJet</td>\n",
       "      <td>SG</td>\n",
       "      <td>8709</td>\n",
       "      <td>18:55</td>\n",
       "      <td>Delhi</td>\n",
       "      <td>02h 10m</td>\n",
       "      <td>non-stop</td>\n",
       "      <td>21:05</td>\n",
       "      <td>Mumbai</td>\n",
       "      <td>5,953</td>\n",
       "    </tr>\n",
       "    <tr>\n",
       "      <th>1</th>\n",
       "      <td>11-02-2022</td>\n",
       "      <td>SpiceJet</td>\n",
       "      <td>SG</td>\n",
       "      <td>8157</td>\n",
       "      <td>06:20</td>\n",
       "      <td>Delhi</td>\n",
       "      <td>02h 20m</td>\n",
       "      <td>non-stop</td>\n",
       "      <td>08:40</td>\n",
       "      <td>Mumbai</td>\n",
       "      <td>5,953</td>\n",
       "    </tr>\n",
       "    <tr>\n",
       "      <th>2</th>\n",
       "      <td>11-02-2022</td>\n",
       "      <td>AirAsia</td>\n",
       "      <td>I5</td>\n",
       "      <td>764</td>\n",
       "      <td>04:25</td>\n",
       "      <td>Delhi</td>\n",
       "      <td>02h 10m</td>\n",
       "      <td>non-stop</td>\n",
       "      <td>06:35</td>\n",
       "      <td>Mumbai</td>\n",
       "      <td>5,956</td>\n",
       "    </tr>\n",
       "    <tr>\n",
       "      <th>3</th>\n",
       "      <td>11-02-2022</td>\n",
       "      <td>Vistara</td>\n",
       "      <td>UK</td>\n",
       "      <td>995</td>\n",
       "      <td>10:20</td>\n",
       "      <td>Delhi</td>\n",
       "      <td>02h 15m</td>\n",
       "      <td>non-stop</td>\n",
       "      <td>12:35</td>\n",
       "      <td>Mumbai</td>\n",
       "      <td>5,955</td>\n",
       "    </tr>\n",
       "    <tr>\n",
       "      <th>4</th>\n",
       "      <td>11-02-2022</td>\n",
       "      <td>Vistara</td>\n",
       "      <td>UK</td>\n",
       "      <td>963</td>\n",
       "      <td>08:50</td>\n",
       "      <td>Delhi</td>\n",
       "      <td>02h 20m</td>\n",
       "      <td>non-stop</td>\n",
       "      <td>11:10</td>\n",
       "      <td>Mumbai</td>\n",
       "      <td>5,955</td>\n",
       "    </tr>\n",
       "  </tbody>\n",
       "</table>\n",
       "</div>"
      ],
      "text/plain": [
       "         date   airline ch_code  num_code dep_time   from time_taken  \\\n",
       "0  11-02-2022  SpiceJet      SG      8709    18:55  Delhi    02h 10m   \n",
       "1  11-02-2022  SpiceJet      SG      8157    06:20  Delhi    02h 20m   \n",
       "2  11-02-2022   AirAsia      I5       764    04:25  Delhi    02h 10m   \n",
       "3  11-02-2022   Vistara      UK       995    10:20  Delhi    02h 15m   \n",
       "4  11-02-2022   Vistara      UK       963    08:50  Delhi    02h 20m   \n",
       "\n",
       "        stop arr_time      to  price  \n",
       "0  non-stop     21:05  Mumbai  5,953  \n",
       "1  non-stop     08:40  Mumbai  5,953  \n",
       "2  non-stop     06:35  Mumbai  5,956  \n",
       "3  non-stop     12:35  Mumbai  5,955  \n",
       "4  non-stop     11:10  Mumbai  5,955  "
      ]
     },
     "execution_count": 3,
     "metadata": {},
     "output_type": "execute_result"
    }
   ],
   "source": [
    "df1.head()"
   ]
  },
  {
   "cell_type": "code",
   "execution_count": 4,
   "id": "1051d014",
   "metadata": {},
   "outputs": [
    {
     "data": {
      "text/plain": [
       "(206774, 11)"
      ]
     },
     "execution_count": 4,
     "metadata": {},
     "output_type": "execute_result"
    }
   ],
   "source": [
    "df1.shape"
   ]
  },
  {
   "cell_type": "code",
   "execution_count": 5,
   "id": "6f32954b",
   "metadata": {},
   "outputs": [
    {
     "data": {
      "text/html": [
       "<div>\n",
       "<style scoped>\n",
       "    .dataframe tbody tr th:only-of-type {\n",
       "        vertical-align: middle;\n",
       "    }\n",
       "\n",
       "    .dataframe tbody tr th {\n",
       "        vertical-align: top;\n",
       "    }\n",
       "\n",
       "    .dataframe thead th {\n",
       "        text-align: right;\n",
       "    }\n",
       "</style>\n",
       "<table border=\"1\" class=\"dataframe\">\n",
       "  <thead>\n",
       "    <tr style=\"text-align: right;\">\n",
       "      <th></th>\n",
       "      <th>date</th>\n",
       "      <th>airline</th>\n",
       "      <th>ch_code</th>\n",
       "      <th>num_code</th>\n",
       "      <th>dep_time</th>\n",
       "      <th>from</th>\n",
       "      <th>time_taken</th>\n",
       "      <th>stop</th>\n",
       "      <th>arr_time</th>\n",
       "      <th>to</th>\n",
       "      <th>price</th>\n",
       "    </tr>\n",
       "  </thead>\n",
       "  <tbody>\n",
       "    <tr>\n",
       "      <th>0</th>\n",
       "      <td>11-02-2022</td>\n",
       "      <td>Air India</td>\n",
       "      <td>AI</td>\n",
       "      <td>868</td>\n",
       "      <td>18:00</td>\n",
       "      <td>Delhi</td>\n",
       "      <td>02h 00m</td>\n",
       "      <td>non-stop</td>\n",
       "      <td>20:00</td>\n",
       "      <td>Mumbai</td>\n",
       "      <td>25,612</td>\n",
       "    </tr>\n",
       "    <tr>\n",
       "      <th>1</th>\n",
       "      <td>11-02-2022</td>\n",
       "      <td>Air India</td>\n",
       "      <td>AI</td>\n",
       "      <td>624</td>\n",
       "      <td>19:00</td>\n",
       "      <td>Delhi</td>\n",
       "      <td>02h 15m</td>\n",
       "      <td>non-stop</td>\n",
       "      <td>21:15</td>\n",
       "      <td>Mumbai</td>\n",
       "      <td>25,612</td>\n",
       "    </tr>\n",
       "    <tr>\n",
       "      <th>2</th>\n",
       "      <td>11-02-2022</td>\n",
       "      <td>Air India</td>\n",
       "      <td>AI</td>\n",
       "      <td>531</td>\n",
       "      <td>20:00</td>\n",
       "      <td>Delhi</td>\n",
       "      <td>24h 45m</td>\n",
       "      <td>1-stop\\n\\t\\t\\t\\t\\t\\t\\t\\t\\t\\t\\t\\t\\n\\t\\t\\t\\t\\t\\t...</td>\n",
       "      <td>20:45</td>\n",
       "      <td>Mumbai</td>\n",
       "      <td>42,220</td>\n",
       "    </tr>\n",
       "    <tr>\n",
       "      <th>3</th>\n",
       "      <td>11-02-2022</td>\n",
       "      <td>Air India</td>\n",
       "      <td>AI</td>\n",
       "      <td>839</td>\n",
       "      <td>21:25</td>\n",
       "      <td>Delhi</td>\n",
       "      <td>26h 30m</td>\n",
       "      <td>1-stop\\n\\t\\t\\t\\t\\t\\t\\t\\t\\t\\t\\t\\t\\n\\t\\t\\t\\t\\t\\t...</td>\n",
       "      <td>23:55</td>\n",
       "      <td>Mumbai</td>\n",
       "      <td>44,450</td>\n",
       "    </tr>\n",
       "    <tr>\n",
       "      <th>4</th>\n",
       "      <td>11-02-2022</td>\n",
       "      <td>Air India</td>\n",
       "      <td>AI</td>\n",
       "      <td>544</td>\n",
       "      <td>17:15</td>\n",
       "      <td>Delhi</td>\n",
       "      <td>06h 40m</td>\n",
       "      <td>1-stop\\n\\t\\t\\t\\t\\t\\t\\t\\t\\t\\t\\t\\t\\n\\t\\t\\t\\t\\t\\t...</td>\n",
       "      <td>23:55</td>\n",
       "      <td>Mumbai</td>\n",
       "      <td>46,690</td>\n",
       "    </tr>\n",
       "  </tbody>\n",
       "</table>\n",
       "</div>"
      ],
      "text/plain": [
       "         date    airline ch_code  num_code dep_time   from time_taken  \\\n",
       "0  11-02-2022  Air India      AI       868    18:00  Delhi    02h 00m   \n",
       "1  11-02-2022  Air India      AI       624    19:00  Delhi    02h 15m   \n",
       "2  11-02-2022  Air India      AI       531    20:00  Delhi    24h 45m   \n",
       "3  11-02-2022  Air India      AI       839    21:25  Delhi    26h 30m   \n",
       "4  11-02-2022  Air India      AI       544    17:15  Delhi    06h 40m   \n",
       "\n",
       "                                                stop arr_time      to   price  \n",
       "0                                          non-stop     20:00  Mumbai  25,612  \n",
       "1                                          non-stop     21:15  Mumbai  25,612  \n",
       "2  1-stop\\n\\t\\t\\t\\t\\t\\t\\t\\t\\t\\t\\t\\t\\n\\t\\t\\t\\t\\t\\t...    20:45  Mumbai  42,220  \n",
       "3  1-stop\\n\\t\\t\\t\\t\\t\\t\\t\\t\\t\\t\\t\\t\\n\\t\\t\\t\\t\\t\\t...    23:55  Mumbai  44,450  \n",
       "4  1-stop\\n\\t\\t\\t\\t\\t\\t\\t\\t\\t\\t\\t\\t\\n\\t\\t\\t\\t\\t\\t...    23:55  Mumbai  46,690  "
      ]
     },
     "execution_count": 5,
     "metadata": {},
     "output_type": "execute_result"
    }
   ],
   "source": [
    "df2.head()"
   ]
  },
  {
   "cell_type": "code",
   "execution_count": 6,
   "id": "33b9d4f1",
   "metadata": {},
   "outputs": [
    {
     "data": {
      "text/plain": [
       "(93487, 11)"
      ]
     },
     "execution_count": 6,
     "metadata": {},
     "output_type": "execute_result"
    }
   ],
   "source": [
    "df2.shape"
   ]
  },
  {
   "cell_type": "code",
   "execution_count": 7,
   "id": "74353539",
   "metadata": {},
   "outputs": [],
   "source": [
    "df1[\"class\"] = \"Economy\"\n",
    "df2[\"class\"] = \"Business\""
   ]
  },
  {
   "cell_type": "markdown",
   "id": "0f2efc47",
   "metadata": {},
   "source": [
    "    Before mearging both the files am creating a new feature called class which indecates weather the data is from economy  or business"
   ]
  },
  {
   "cell_type": "code",
   "execution_count": 8,
   "id": "8079b18a",
   "metadata": {},
   "outputs": [],
   "source": [
    "df = df1.merge(df2,how = 'outer')\n"
   ]
  },
  {
   "cell_type": "code",
   "execution_count": 9,
   "id": "cbcd8aab",
   "metadata": {},
   "outputs": [
    {
     "data": {
      "text/plain": [
       "(300261, 12)"
      ]
     },
     "execution_count": 9,
     "metadata": {},
     "output_type": "execute_result"
    }
   ],
   "source": [
    "df.shape"
   ]
  },
  {
   "cell_type": "code",
   "execution_count": 10,
   "id": "948331a3",
   "metadata": {},
   "outputs": [
    {
     "data": {
      "text/html": [
       "<div>\n",
       "<style scoped>\n",
       "    .dataframe tbody tr th:only-of-type {\n",
       "        vertical-align: middle;\n",
       "    }\n",
       "\n",
       "    .dataframe tbody tr th {\n",
       "        vertical-align: top;\n",
       "    }\n",
       "\n",
       "    .dataframe thead th {\n",
       "        text-align: right;\n",
       "    }\n",
       "</style>\n",
       "<table border=\"1\" class=\"dataframe\">\n",
       "  <thead>\n",
       "    <tr style=\"text-align: right;\">\n",
       "      <th></th>\n",
       "      <th>date</th>\n",
       "      <th>airline</th>\n",
       "      <th>ch_code</th>\n",
       "      <th>num_code</th>\n",
       "      <th>dep_time</th>\n",
       "      <th>from</th>\n",
       "      <th>time_taken</th>\n",
       "      <th>stop</th>\n",
       "      <th>arr_time</th>\n",
       "      <th>to</th>\n",
       "      <th>price</th>\n",
       "      <th>class</th>\n",
       "    </tr>\n",
       "  </thead>\n",
       "  <tbody>\n",
       "    <tr>\n",
       "      <th>300256</th>\n",
       "      <td>31-03-2022</td>\n",
       "      <td>Vistara</td>\n",
       "      <td>UK</td>\n",
       "      <td>822</td>\n",
       "      <td>09:45</td>\n",
       "      <td>Chennai</td>\n",
       "      <td>10h 05m</td>\n",
       "      <td>1-stop\\n\\t\\t\\t\\t\\t\\t\\t\\t\\t\\t\\t\\t\\n\\t\\t\\t\\t\\t\\t...</td>\n",
       "      <td>19:50</td>\n",
       "      <td>Hyderabad</td>\n",
       "      <td>69,265</td>\n",
       "      <td>Business</td>\n",
       "    </tr>\n",
       "    <tr>\n",
       "      <th>300257</th>\n",
       "      <td>31-03-2022</td>\n",
       "      <td>Vistara</td>\n",
       "      <td>UK</td>\n",
       "      <td>826</td>\n",
       "      <td>12:30</td>\n",
       "      <td>Chennai</td>\n",
       "      <td>10h 25m</td>\n",
       "      <td>1-stop\\n\\t\\t\\t\\t\\t\\t\\t\\t\\t\\t\\t\\t\\n\\t\\t\\t\\t\\t\\t...</td>\n",
       "      <td>22:55</td>\n",
       "      <td>Hyderabad</td>\n",
       "      <td>77,105</td>\n",
       "      <td>Business</td>\n",
       "    </tr>\n",
       "    <tr>\n",
       "      <th>300258</th>\n",
       "      <td>31-03-2022</td>\n",
       "      <td>Vistara</td>\n",
       "      <td>UK</td>\n",
       "      <td>832</td>\n",
       "      <td>07:05</td>\n",
       "      <td>Chennai</td>\n",
       "      <td>13h 50m</td>\n",
       "      <td>1-stop\\n\\t\\t\\t\\t\\t\\t\\t\\t\\t\\t\\t\\t\\n\\t\\t\\t\\t\\t\\t...</td>\n",
       "      <td>20:55</td>\n",
       "      <td>Hyderabad</td>\n",
       "      <td>79,099</td>\n",
       "      <td>Business</td>\n",
       "    </tr>\n",
       "    <tr>\n",
       "      <th>300259</th>\n",
       "      <td>31-03-2022</td>\n",
       "      <td>Vistara</td>\n",
       "      <td>UK</td>\n",
       "      <td>828</td>\n",
       "      <td>07:00</td>\n",
       "      <td>Chennai</td>\n",
       "      <td>10h 00m</td>\n",
       "      <td>1-stop\\n\\t\\t\\t\\t\\t\\t\\t\\t\\t\\t\\t\\t\\n\\t\\t\\t\\t\\t\\t...</td>\n",
       "      <td>17:00</td>\n",
       "      <td>Hyderabad</td>\n",
       "      <td>81,585</td>\n",
       "      <td>Business</td>\n",
       "    </tr>\n",
       "    <tr>\n",
       "      <th>300260</th>\n",
       "      <td>31-03-2022</td>\n",
       "      <td>Vistara</td>\n",
       "      <td>UK</td>\n",
       "      <td>822</td>\n",
       "      <td>09:45</td>\n",
       "      <td>Chennai</td>\n",
       "      <td>10h 05m</td>\n",
       "      <td>1-stop\\n\\t\\t\\t\\t\\t\\t\\t\\t\\t\\t\\t\\t\\n\\t\\t\\t\\t\\t\\t...</td>\n",
       "      <td>19:50</td>\n",
       "      <td>Hyderabad</td>\n",
       "      <td>81,585</td>\n",
       "      <td>Business</td>\n",
       "    </tr>\n",
       "  </tbody>\n",
       "</table>\n",
       "</div>"
      ],
      "text/plain": [
       "              date  airline ch_code  num_code dep_time     from time_taken  \\\n",
       "300256  31-03-2022  Vistara      UK       822    09:45  Chennai    10h 05m   \n",
       "300257  31-03-2022  Vistara      UK       826    12:30  Chennai    10h 25m   \n",
       "300258  31-03-2022  Vistara      UK       832    07:05  Chennai    13h 50m   \n",
       "300259  31-03-2022  Vistara      UK       828    07:00  Chennai    10h 00m   \n",
       "300260  31-03-2022  Vistara      UK       822    09:45  Chennai    10h 05m   \n",
       "\n",
       "                                                     stop arr_time         to  \\\n",
       "300256  1-stop\\n\\t\\t\\t\\t\\t\\t\\t\\t\\t\\t\\t\\t\\n\\t\\t\\t\\t\\t\\t...    19:50  Hyderabad   \n",
       "300257  1-stop\\n\\t\\t\\t\\t\\t\\t\\t\\t\\t\\t\\t\\t\\n\\t\\t\\t\\t\\t\\t...    22:55  Hyderabad   \n",
       "300258  1-stop\\n\\t\\t\\t\\t\\t\\t\\t\\t\\t\\t\\t\\t\\n\\t\\t\\t\\t\\t\\t...    20:55  Hyderabad   \n",
       "300259  1-stop\\n\\t\\t\\t\\t\\t\\t\\t\\t\\t\\t\\t\\t\\n\\t\\t\\t\\t\\t\\t...    17:00  Hyderabad   \n",
       "300260  1-stop\\n\\t\\t\\t\\t\\t\\t\\t\\t\\t\\t\\t\\t\\n\\t\\t\\t\\t\\t\\t...    19:50  Hyderabad   \n",
       "\n",
       "         price     class  \n",
       "300256  69,265  Business  \n",
       "300257  77,105  Business  \n",
       "300258  79,099  Business  \n",
       "300259  81,585  Business  \n",
       "300260  81,585  Business  "
      ]
     },
     "execution_count": 10,
     "metadata": {},
     "output_type": "execute_result"
    }
   ],
   "source": [
    "df.tail()"
   ]
  },
  {
   "cell_type": "code",
   "execution_count": 11,
   "id": "c1f19b8f",
   "metadata": {},
   "outputs": [
    {
     "data": {
      "text/html": [
       "<div>\n",
       "<style scoped>\n",
       "    .dataframe tbody tr th:only-of-type {\n",
       "        vertical-align: middle;\n",
       "    }\n",
       "\n",
       "    .dataframe tbody tr th {\n",
       "        vertical-align: top;\n",
       "    }\n",
       "\n",
       "    .dataframe thead th {\n",
       "        text-align: right;\n",
       "    }\n",
       "</style>\n",
       "<table border=\"1\" class=\"dataframe\">\n",
       "  <thead>\n",
       "    <tr style=\"text-align: right;\">\n",
       "      <th></th>\n",
       "      <th>date</th>\n",
       "      <th>airline</th>\n",
       "      <th>ch_code</th>\n",
       "      <th>num_code</th>\n",
       "      <th>dep_time</th>\n",
       "      <th>from</th>\n",
       "      <th>time_taken</th>\n",
       "      <th>stop</th>\n",
       "      <th>arr_time</th>\n",
       "      <th>to</th>\n",
       "      <th>price</th>\n",
       "      <th>class</th>\n",
       "    </tr>\n",
       "  </thead>\n",
       "  <tbody>\n",
       "    <tr>\n",
       "      <th>181780</th>\n",
       "      <td>22-02-2022</td>\n",
       "      <td>Indigo</td>\n",
       "      <td>6E</td>\n",
       "      <td>605</td>\n",
       "      <td>13:05</td>\n",
       "      <td>Chennai</td>\n",
       "      <td>07h 40m</td>\n",
       "      <td>1-stop\\n\\t\\t\\t\\t\\t\\t\\t\\t\\t\\t\\t\\t\\n\\t\\t\\t\\t\\t\\t...</td>\n",
       "      <td>20:45</td>\n",
       "      <td>Delhi</td>\n",
       "      <td>7,877</td>\n",
       "      <td>Economy</td>\n",
       "    </tr>\n",
       "    <tr>\n",
       "      <th>235511</th>\n",
       "      <td>27-02-2022</td>\n",
       "      <td>Vistara</td>\n",
       "      <td>UK</td>\n",
       "      <td>950</td>\n",
       "      <td>21:55</td>\n",
       "      <td>Mumbai</td>\n",
       "      <td>10h 40m</td>\n",
       "      <td>1-stop\\n\\t\\t\\t\\t\\t\\t\\t\\t\\t\\t\\t\\t\\n\\t\\t\\t\\t\\t\\t...</td>\n",
       "      <td>08:35</td>\n",
       "      <td>Kolkata</td>\n",
       "      <td>72,125</td>\n",
       "      <td>Business</td>\n",
       "    </tr>\n",
       "    <tr>\n",
       "      <th>31522</th>\n",
       "      <td>05-03-2022</td>\n",
       "      <td>Vistara</td>\n",
       "      <td>UK</td>\n",
       "      <td>815</td>\n",
       "      <td>08:05</td>\n",
       "      <td>Delhi</td>\n",
       "      <td>12h 50m</td>\n",
       "      <td>1-stop\\n\\t\\t\\t\\t\\t\\t\\t\\t\\t\\t\\t\\t\\n\\t\\t\\t\\t\\t\\t...</td>\n",
       "      <td>20:55</td>\n",
       "      <td>Hyderabad</td>\n",
       "      <td>5,761</td>\n",
       "      <td>Economy</td>\n",
       "    </tr>\n",
       "    <tr>\n",
       "      <th>1333</th>\n",
       "      <td>19-02-2022</td>\n",
       "      <td>SpiceJet</td>\n",
       "      <td>SG</td>\n",
       "      <td>8483</td>\n",
       "      <td>18:10</td>\n",
       "      <td>Delhi</td>\n",
       "      <td>13h 15m</td>\n",
       "      <td>1-stop\\n\\t\\t\\t\\t\\t\\t\\t\\t\\t\\t\\t\\t\\n\\t\\t\\t\\t\\t\\t...</td>\n",
       "      <td>07:25</td>\n",
       "      <td>Mumbai</td>\n",
       "      <td>6,060</td>\n",
       "      <td>Economy</td>\n",
       "    </tr>\n",
       "    <tr>\n",
       "      <th>117525</th>\n",
       "      <td>07-03-2022</td>\n",
       "      <td>GO FIRST</td>\n",
       "      <td>G8</td>\n",
       "      <td>312</td>\n",
       "      <td>17:20</td>\n",
       "      <td>Bangalore</td>\n",
       "      <td>07h 25m</td>\n",
       "      <td>1-stop\\n\\t\\t\\t\\t\\t\\t\\t\\t\\t\\t\\t\\t\\n\\t\\t\\t\\t\\t\\t...</td>\n",
       "      <td>00:45</td>\n",
       "      <td>Chennai</td>\n",
       "      <td>3,336</td>\n",
       "      <td>Economy</td>\n",
       "    </tr>\n",
       "  </tbody>\n",
       "</table>\n",
       "</div>"
      ],
      "text/plain": [
       "              date   airline ch_code  num_code dep_time       from time_taken  \\\n",
       "181780  22-02-2022    Indigo      6E       605    13:05    Chennai    07h 40m   \n",
       "235511  27-02-2022   Vistara      UK       950    21:55     Mumbai    10h 40m   \n",
       "31522   05-03-2022   Vistara      UK       815    08:05      Delhi    12h 50m   \n",
       "1333    19-02-2022  SpiceJet      SG      8483    18:10      Delhi    13h 15m   \n",
       "117525  07-03-2022  GO FIRST      G8       312    17:20  Bangalore    07h 25m   \n",
       "\n",
       "                                                     stop arr_time         to  \\\n",
       "181780  1-stop\\n\\t\\t\\t\\t\\t\\t\\t\\t\\t\\t\\t\\t\\n\\t\\t\\t\\t\\t\\t...    20:45      Delhi   \n",
       "235511  1-stop\\n\\t\\t\\t\\t\\t\\t\\t\\t\\t\\t\\t\\t\\n\\t\\t\\t\\t\\t\\t...    08:35    Kolkata   \n",
       "31522   1-stop\\n\\t\\t\\t\\t\\t\\t\\t\\t\\t\\t\\t\\t\\n\\t\\t\\t\\t\\t\\t...    20:55  Hyderabad   \n",
       "1333    1-stop\\n\\t\\t\\t\\t\\t\\t\\t\\t\\t\\t\\t\\t\\n\\t\\t\\t\\t\\t\\t...    07:25     Mumbai   \n",
       "117525  1-stop\\n\\t\\t\\t\\t\\t\\t\\t\\t\\t\\t\\t\\t\\n\\t\\t\\t\\t\\t\\t...    00:45    Chennai   \n",
       "\n",
       "         price     class  \n",
       "181780   7,877   Economy  \n",
       "235511  72,125  Business  \n",
       "31522    5,761   Economy  \n",
       "1333     6,060   Economy  \n",
       "117525   3,336   Economy  "
      ]
     },
     "execution_count": 11,
     "metadata": {},
     "output_type": "execute_result"
    }
   ],
   "source": [
    "df.sample(5)"
   ]
  },
  {
   "cell_type": "markdown",
   "id": "69fb06f8",
   "metadata": {},
   "source": [
    "    1. I have used df.sample to get random rows from dataset\n",
    "    2. As we can see that class features has been added."
   ]
  },
  {
   "cell_type": "code",
   "execution_count": 12,
   "id": "688a5694",
   "metadata": {},
   "outputs": [
    {
     "name": "stdout",
     "output_type": "stream",
     "text": [
      "<class 'pandas.core.frame.DataFrame'>\n",
      "Int64Index: 300261 entries, 0 to 300260\n",
      "Data columns (total 12 columns):\n",
      " #   Column      Non-Null Count   Dtype \n",
      "---  ------      --------------   ----- \n",
      " 0   date        300261 non-null  object\n",
      " 1   airline     300261 non-null  object\n",
      " 2   ch_code     300261 non-null  object\n",
      " 3   num_code    300261 non-null  int64 \n",
      " 4   dep_time    300261 non-null  object\n",
      " 5   from        300261 non-null  object\n",
      " 6   time_taken  300261 non-null  object\n",
      " 7   stop        300261 non-null  object\n",
      " 8   arr_time    300261 non-null  object\n",
      " 9   to          300261 non-null  object\n",
      " 10  price       300261 non-null  object\n",
      " 11  class       300261 non-null  object\n",
      "dtypes: int64(1), object(11)\n",
      "memory usage: 29.8+ MB\n"
     ]
    }
   ],
   "source": [
    "df.info()"
   ]
  },
  {
   "cell_type": "code",
   "execution_count": 13,
   "id": "03ef47e6",
   "metadata": {},
   "outputs": [
    {
     "data": {
      "text/plain": [
       "date          0\n",
       "airline       0\n",
       "ch_code       0\n",
       "num_code      0\n",
       "dep_time      0\n",
       "from          0\n",
       "time_taken    0\n",
       "stop          0\n",
       "arr_time      0\n",
       "to            0\n",
       "price         0\n",
       "class         0\n",
       "dtype: int64"
      ]
     },
     "execution_count": 13,
     "metadata": {},
     "output_type": "execute_result"
    }
   ],
   "source": [
    "df.isnull().sum()"
   ]
  },
  {
   "cell_type": "markdown",
   "id": "e5beeaab",
   "metadata": {},
   "source": [
    "    We can clearly see that there is no null value is present."
   ]
  },
  {
   "cell_type": "markdown",
   "id": "a95ea062",
   "metadata": {},
   "source": [
    "### Data Validation"
   ]
  },
  {
   "cell_type": "code",
   "execution_count": 14,
   "id": "e043beee",
   "metadata": {},
   "outputs": [],
   "source": [
    "a = (pd.to_datetime(df[\"dep_time\"]).dt.hour % 24 + 4) // 4\n",
    "\n",
    "#Divided the time of departure into 6 different time format which gives numbers from 1 to 6 #(return a series)\n",
    "\n",
    "a.replace({1: 'Late Night', 2: 'Early Morning', 3: 'Morning', 4: 'Afternoon', 5: 'Evening', 6: 'Night'} ,inplace = True)\n",
    "\n",
    "# it will replace values 1:latenight to 6: night\n",
    "\n",
    "df[\"dep_time\"] = a"
   ]
  },
  {
   "cell_type": "markdown",
   "id": "a4d80523",
   "metadata": {},
   "source": [
    "Here i have converted a series of time into specific categorie by dividing the 24 hour format into 6 categories for Dep_time. \n"
   ]
  },
  {
   "cell_type": "code",
   "execution_count": 15,
   "id": "07acf762",
   "metadata": {},
   "outputs": [
    {
     "data": {
      "text/html": [
       "<div>\n",
       "<style scoped>\n",
       "    .dataframe tbody tr th:only-of-type {\n",
       "        vertical-align: middle;\n",
       "    }\n",
       "\n",
       "    .dataframe tbody tr th {\n",
       "        vertical-align: top;\n",
       "    }\n",
       "\n",
       "    .dataframe thead th {\n",
       "        text-align: right;\n",
       "    }\n",
       "</style>\n",
       "<table border=\"1\" class=\"dataframe\">\n",
       "  <thead>\n",
       "    <tr style=\"text-align: right;\">\n",
       "      <th></th>\n",
       "      <th>date</th>\n",
       "      <th>airline</th>\n",
       "      <th>ch_code</th>\n",
       "      <th>num_code</th>\n",
       "      <th>dep_time</th>\n",
       "      <th>from</th>\n",
       "      <th>time_taken</th>\n",
       "      <th>stop</th>\n",
       "      <th>arr_time</th>\n",
       "      <th>to</th>\n",
       "      <th>price</th>\n",
       "      <th>class</th>\n",
       "    </tr>\n",
       "  </thead>\n",
       "  <tbody>\n",
       "    <tr>\n",
       "      <th>0</th>\n",
       "      <td>11-02-2022</td>\n",
       "      <td>SpiceJet</td>\n",
       "      <td>SG</td>\n",
       "      <td>8709</td>\n",
       "      <td>Evening</td>\n",
       "      <td>Delhi</td>\n",
       "      <td>02h 10m</td>\n",
       "      <td>non-stop</td>\n",
       "      <td>21:05</td>\n",
       "      <td>Mumbai</td>\n",
       "      <td>5,953</td>\n",
       "      <td>Economy</td>\n",
       "    </tr>\n",
       "    <tr>\n",
       "      <th>1</th>\n",
       "      <td>11-02-2022</td>\n",
       "      <td>SpiceJet</td>\n",
       "      <td>SG</td>\n",
       "      <td>8157</td>\n",
       "      <td>Early Morning</td>\n",
       "      <td>Delhi</td>\n",
       "      <td>02h 20m</td>\n",
       "      <td>non-stop</td>\n",
       "      <td>08:40</td>\n",
       "      <td>Mumbai</td>\n",
       "      <td>5,953</td>\n",
       "      <td>Economy</td>\n",
       "    </tr>\n",
       "    <tr>\n",
       "      <th>2</th>\n",
       "      <td>11-02-2022</td>\n",
       "      <td>AirAsia</td>\n",
       "      <td>I5</td>\n",
       "      <td>764</td>\n",
       "      <td>Early Morning</td>\n",
       "      <td>Delhi</td>\n",
       "      <td>02h 10m</td>\n",
       "      <td>non-stop</td>\n",
       "      <td>06:35</td>\n",
       "      <td>Mumbai</td>\n",
       "      <td>5,956</td>\n",
       "      <td>Economy</td>\n",
       "    </tr>\n",
       "    <tr>\n",
       "      <th>3</th>\n",
       "      <td>11-02-2022</td>\n",
       "      <td>Vistara</td>\n",
       "      <td>UK</td>\n",
       "      <td>995</td>\n",
       "      <td>Morning</td>\n",
       "      <td>Delhi</td>\n",
       "      <td>02h 15m</td>\n",
       "      <td>non-stop</td>\n",
       "      <td>12:35</td>\n",
       "      <td>Mumbai</td>\n",
       "      <td>5,955</td>\n",
       "      <td>Economy</td>\n",
       "    </tr>\n",
       "    <tr>\n",
       "      <th>4</th>\n",
       "      <td>11-02-2022</td>\n",
       "      <td>Vistara</td>\n",
       "      <td>UK</td>\n",
       "      <td>963</td>\n",
       "      <td>Morning</td>\n",
       "      <td>Delhi</td>\n",
       "      <td>02h 20m</td>\n",
       "      <td>non-stop</td>\n",
       "      <td>11:10</td>\n",
       "      <td>Mumbai</td>\n",
       "      <td>5,955</td>\n",
       "      <td>Economy</td>\n",
       "    </tr>\n",
       "  </tbody>\n",
       "</table>\n",
       "</div>"
      ],
      "text/plain": [
       "         date   airline ch_code  num_code       dep_time   from time_taken  \\\n",
       "0  11-02-2022  SpiceJet      SG      8709        Evening  Delhi    02h 10m   \n",
       "1  11-02-2022  SpiceJet      SG      8157  Early Morning  Delhi    02h 20m   \n",
       "2  11-02-2022   AirAsia      I5       764  Early Morning  Delhi    02h 10m   \n",
       "3  11-02-2022   Vistara      UK       995        Morning  Delhi    02h 15m   \n",
       "4  11-02-2022   Vistara      UK       963        Morning  Delhi    02h 20m   \n",
       "\n",
       "        stop arr_time      to  price    class  \n",
       "0  non-stop     21:05  Mumbai  5,953  Economy  \n",
       "1  non-stop     08:40  Mumbai  5,953  Economy  \n",
       "2  non-stop     06:35  Mumbai  5,956  Economy  \n",
       "3  non-stop     12:35  Mumbai  5,955  Economy  \n",
       "4  non-stop     11:10  Mumbai  5,955  Economy  "
      ]
     },
     "execution_count": 15,
     "metadata": {},
     "output_type": "execute_result"
    }
   ],
   "source": [
    "df.head()"
   ]
  },
  {
   "cell_type": "code",
   "execution_count": 16,
   "id": "809ca116",
   "metadata": {},
   "outputs": [],
   "source": [
    "b = (pd.to_datetime(df[\"arr_time\"]).dt.hour % 24 + 4) // 4\n",
    "\n",
    "#Divided the time of departure into 6 different time format which gives numbers from 1 to 6 #(return a series)\n",
    "\n",
    "b.replace({1: 'Late Night', 2: 'Early Morning', 3: 'Morning', 4: 'Afternoon', 5: 'Evening', 6: 'Night'} ,inplace = True)\n",
    "\n",
    "# it will replace values 1:latenight to 6: night\n",
    "\n",
    "df[\"arr_time\"] = b"
   ]
  },
  {
   "cell_type": "markdown",
   "id": "8de34213",
   "metadata": {},
   "source": [
    "Here i have converted a series of time into specific categorie by dividing the 24 hour format into 6 categories for arr_time."
   ]
  },
  {
   "cell_type": "code",
   "execution_count": 17,
   "id": "4c49a179",
   "metadata": {},
   "outputs": [
    {
     "data": {
      "text/html": [
       "<div>\n",
       "<style scoped>\n",
       "    .dataframe tbody tr th:only-of-type {\n",
       "        vertical-align: middle;\n",
       "    }\n",
       "\n",
       "    .dataframe tbody tr th {\n",
       "        vertical-align: top;\n",
       "    }\n",
       "\n",
       "    .dataframe thead th {\n",
       "        text-align: right;\n",
       "    }\n",
       "</style>\n",
       "<table border=\"1\" class=\"dataframe\">\n",
       "  <thead>\n",
       "    <tr style=\"text-align: right;\">\n",
       "      <th></th>\n",
       "      <th>date</th>\n",
       "      <th>airline</th>\n",
       "      <th>ch_code</th>\n",
       "      <th>num_code</th>\n",
       "      <th>dep_time</th>\n",
       "      <th>from</th>\n",
       "      <th>time_taken</th>\n",
       "      <th>stop</th>\n",
       "      <th>arr_time</th>\n",
       "      <th>to</th>\n",
       "      <th>price</th>\n",
       "      <th>class</th>\n",
       "    </tr>\n",
       "  </thead>\n",
       "  <tbody>\n",
       "    <tr>\n",
       "      <th>0</th>\n",
       "      <td>11-02-2022</td>\n",
       "      <td>SpiceJet</td>\n",
       "      <td>SG</td>\n",
       "      <td>8709</td>\n",
       "      <td>Evening</td>\n",
       "      <td>Delhi</td>\n",
       "      <td>02h 10m</td>\n",
       "      <td>non-stop</td>\n",
       "      <td>Night</td>\n",
       "      <td>Mumbai</td>\n",
       "      <td>5,953</td>\n",
       "      <td>Economy</td>\n",
       "    </tr>\n",
       "    <tr>\n",
       "      <th>1</th>\n",
       "      <td>11-02-2022</td>\n",
       "      <td>SpiceJet</td>\n",
       "      <td>SG</td>\n",
       "      <td>8157</td>\n",
       "      <td>Early Morning</td>\n",
       "      <td>Delhi</td>\n",
       "      <td>02h 20m</td>\n",
       "      <td>non-stop</td>\n",
       "      <td>Morning</td>\n",
       "      <td>Mumbai</td>\n",
       "      <td>5,953</td>\n",
       "      <td>Economy</td>\n",
       "    </tr>\n",
       "  </tbody>\n",
       "</table>\n",
       "</div>"
      ],
      "text/plain": [
       "         date   airline ch_code  num_code       dep_time   from time_taken  \\\n",
       "0  11-02-2022  SpiceJet      SG      8709        Evening  Delhi    02h 10m   \n",
       "1  11-02-2022  SpiceJet      SG      8157  Early Morning  Delhi    02h 20m   \n",
       "\n",
       "        stop arr_time      to  price    class  \n",
       "0  non-stop     Night  Mumbai  5,953  Economy  \n",
       "1  non-stop   Morning  Mumbai  5,953  Economy  "
      ]
     },
     "execution_count": 17,
     "metadata": {},
     "output_type": "execute_result"
    }
   ],
   "source": [
    "df.head(2)"
   ]
  },
  {
   "cell_type": "code",
   "execution_count": 18,
   "id": "4405fb25",
   "metadata": {},
   "outputs": [
    {
     "data": {
      "text/html": [
       "<div>\n",
       "<style scoped>\n",
       "    .dataframe tbody tr th:only-of-type {\n",
       "        vertical-align: middle;\n",
       "    }\n",
       "\n",
       "    .dataframe tbody tr th {\n",
       "        vertical-align: top;\n",
       "    }\n",
       "\n",
       "    .dataframe thead th {\n",
       "        text-align: right;\n",
       "    }\n",
       "</style>\n",
       "<table border=\"1\" class=\"dataframe\">\n",
       "  <thead>\n",
       "    <tr style=\"text-align: right;\">\n",
       "      <th></th>\n",
       "      <th>date</th>\n",
       "      <th>airline</th>\n",
       "      <th>ch_code</th>\n",
       "      <th>num_code</th>\n",
       "      <th>dep_time</th>\n",
       "      <th>from</th>\n",
       "      <th>time_taken</th>\n",
       "      <th>stop</th>\n",
       "      <th>arr_time</th>\n",
       "      <th>to</th>\n",
       "      <th>price</th>\n",
       "      <th>class</th>\n",
       "    </tr>\n",
       "  </thead>\n",
       "  <tbody>\n",
       "    <tr>\n",
       "      <th>0</th>\n",
       "      <td>11-02-2022</td>\n",
       "      <td>SpiceJet</td>\n",
       "      <td>SG</td>\n",
       "      <td>8709</td>\n",
       "      <td>Evening</td>\n",
       "      <td>Delhi</td>\n",
       "      <td>2.17</td>\n",
       "      <td>non-stop</td>\n",
       "      <td>Night</td>\n",
       "      <td>Mumbai</td>\n",
       "      <td>5,953</td>\n",
       "      <td>Economy</td>\n",
       "    </tr>\n",
       "    <tr>\n",
       "      <th>1</th>\n",
       "      <td>11-02-2022</td>\n",
       "      <td>SpiceJet</td>\n",
       "      <td>SG</td>\n",
       "      <td>8157</td>\n",
       "      <td>Early Morning</td>\n",
       "      <td>Delhi</td>\n",
       "      <td>2.33</td>\n",
       "      <td>non-stop</td>\n",
       "      <td>Morning</td>\n",
       "      <td>Mumbai</td>\n",
       "      <td>5,953</td>\n",
       "      <td>Economy</td>\n",
       "    </tr>\n",
       "  </tbody>\n",
       "</table>\n",
       "</div>"
      ],
      "text/plain": [
       "         date   airline ch_code  num_code       dep_time   from  time_taken  \\\n",
       "0  11-02-2022  SpiceJet      SG      8709        Evening  Delhi        2.17   \n",
       "1  11-02-2022  SpiceJet      SG      8157  Early Morning  Delhi        2.33   \n",
       "\n",
       "        stop arr_time      to  price    class  \n",
       "0  non-stop     Night  Mumbai  5,953  Economy  \n",
       "1  non-stop   Morning  Mumbai  5,953  Economy  "
      ]
     },
     "execution_count": 18,
     "metadata": {},
     "output_type": "execute_result"
    }
   ],
   "source": [
    "# making duration in float values by calculating only hours\n",
    "\n",
    "import re\n",
    "b = pd.DataFrame(df[\"time_taken\"].str.split(\" \",expand = True).to_numpy(),columns = [\"Hour\",\"Minute\"])\n",
    "b[\"Hour\"]  = b[\"Hour\"].apply(lambda x : re.sub(\"[^0-9]\",\"\",x)).astype(int)\n",
    "b[\"Minute\"]  = b[\"Minute\"].apply(lambda y : re.sub(\"[^0-9]\",\"\",y)) # Because we has no values in minute colum somewhere \n",
    "b[\"Minute\"]  = np.where(b[\"Minute\"] == \"\", 0, b[\"Minute\"]) # replaceing \"\" with 0\n",
    "b[\"Minute\"] = b[\"Minute\"].astype(int) #converting data type\n",
    "df[\"time_taken\"] = np.around(b[\"Hour\"] + b[\"Minute\"]/60,2) # saving the total hours in duration feature\n",
    "df.head(2)"
   ]
  },
  {
   "cell_type": "markdown",
   "id": "d1a0f993",
   "metadata": {},
   "source": [
    "Here i have converted the time_taken column from object to int datatype "
   ]
  },
  {
   "cell_type": "code",
   "execution_count": 19,
   "id": "525d158d",
   "metadata": {},
   "outputs": [
    {
     "data": {
      "text/plain": [
       "1-stop\\n\\t\\t\\t\\t\\t\\t\\t\\t\\t\\t\\t\\t\\n\\t\\t\\t\\t\\t\\t\\t\\t\\t\\t\\t\\t                      243603\n",
       "non-stop                                                                         36044\n",
       "2+-stop                                                                          13288\n",
       "1-stop\\n\\t\\t\\t\\t\\t\\t\\t\\t\\t\\t\\t\\tVia IXU\\n\\t\\t\\t\\t\\t\\t\\t\\t\\t\\t\\t\\t                 1839\n",
       "1-stop\\n\\t\\t\\t\\t\\t\\t\\t\\t\\t\\t\\t\\tVia IDR\\n\\t\\t\\t\\t\\t\\t\\t\\t\\t\\t\\t\\t                 1398\n",
       "1-stop\\n\\t\\t\\t\\t\\t\\t\\t\\t\\t\\t\\t\\tVia Patna\\n\\t\\t\\t\\t\\t\\t\\t\\t\\t\\t\\t\\t                674\n",
       "1-stop\\n\\t\\t\\t\\t\\t\\t\\t\\t\\t\\t\\t\\tVia Indore\\n\\t\\t\\t\\t\\t\\t\\t\\t\\t\\t\\t\\t               381\n",
       "1-stop\\n\\t\\t\\t\\t\\t\\t\\t\\t\\t\\t\\t\\tVia PAT\\n\\t\\t\\t\\t\\t\\t\\t\\t\\t\\t\\t\\t                  354\n",
       "1-stop\\n\\t\\t\\t\\t\\t\\t\\t\\t\\t\\t\\t\\tVia MYQ\\n\\t\\t\\t\\t\\t\\t\\t\\t\\t\\t\\t\\t                  321\n",
       "1-stop\\n\\t\\t\\t\\t\\t\\t\\t\\t\\t\\t\\t\\tVia Bhubaneswar\\n\\t\\t\\t\\t\\t\\t\\t\\t\\t\\t\\t\\t          301\n",
       "1-stop\\n\\t\\t\\t\\t\\t\\t\\t\\t\\t\\t\\t\\tVia KLH\\n\\t\\t\\t\\t\\t\\t\\t\\t\\t\\t\\t\\t                  284\n",
       "1-stop\\n\\t\\t\\t\\t\\t\\t\\t\\t\\t\\t\\t\\tVia JGB\\n\\t\\t\\t\\t\\t\\t\\t\\t\\t\\t\\t\\t                  193\n",
       "1-stop\\n\\t\\t\\t\\t\\t\\t\\t\\t\\t\\t\\t\\tVia JRG\\n\\t\\t\\t\\t\\t\\t\\t\\t\\t\\t\\t\\t                  175\n",
       "1-stop\\n\\t\\t\\t\\t\\t\\t\\t\\t\\t\\t\\t\\tVia STV\\n\\t\\t\\t\\t\\t\\t\\t\\t\\t\\t\\t\\t                  169\n",
       "1-stop\\n\\t\\t\\t\\t\\t\\t\\t\\t\\t\\t\\t\\tVia BBI\\n\\t\\t\\t\\t\\t\\t\\t\\t\\t\\t\\t\\t                  158\n",
       "1-stop\\n\\t\\t\\t\\t\\t\\t\\t\\t\\t\\t\\t\\tVia Delhi\\n\\t\\t\\t\\t\\t\\t\\t\\t\\t\\t\\t\\t                153\n",
       "1-stop\\n\\t\\t\\t\\t\\t\\t\\t\\t\\t\\t\\t\\tVia Hyderabad\\n\\t\\t\\t\\t\\t\\t\\t\\t\\t\\t\\t\\t            143\n",
       "1-stop\\n\\t\\t\\t\\t\\t\\t\\t\\t\\t\\t\\t\\tVia IXE\\n\\t\\t\\t\\t\\t\\t\\t\\t\\t\\t\\t\\t                  120\n",
       "1-stop\\n\\t\\t\\t\\t\\t\\t\\t\\t\\t\\t\\t\\tVia Ranchi\\n\\t\\t\\t\\t\\t\\t\\t\\t\\t\\t\\t\\t               114\n",
       "1-stop\\n\\t\\t\\t\\t\\t\\t\\t\\t\\t\\t\\t\\tVia Raipur\\n\\t\\t\\t\\t\\t\\t\\t\\t\\t\\t\\t\\t               102\n",
       "1-stop\\n\\t\\t\\t\\t\\t\\t\\t\\t\\t\\t\\t\\tVia Chennai\\n\\t\\t\\t\\t\\t\\t\\t\\t\\t\\t\\t\\t               77\n",
       "1-stop\\n\\t\\t\\t\\t\\t\\t\\t\\t\\t\\t\\t\\tVia Guwahati\\n\\t\\t\\t\\t\\t\\t\\t\\t\\t\\t\\t\\t              55\n",
       "1-stop\\n\\t\\t\\t\\t\\t\\t\\t\\t\\t\\t\\t\\tVia Mysore\\n\\t\\t\\t\\t\\t\\t\\t\\t\\t\\t\\t\\t                45\n",
       "1-stop\\n\\t\\t\\t\\t\\t\\t\\t\\t\\t\\t\\t\\tVia Mangalore\\n\\t\\t\\t\\t\\t\\t\\t\\t\\t\\t\\t\\t             39\n",
       "1-stop\\n\\t\\t\\t\\t\\t\\t\\t\\t\\t\\t\\t\\tVia Mumbai\\n\\t\\t\\t\\t\\t\\t\\t\\t\\t\\t\\t\\t                31\n",
       "1-stop\\n\\t\\t\\t\\t\\t\\t\\t\\t\\t\\t\\t\\tVia Kolkata\\n\\t\\t\\t\\t\\t\\t\\t\\t\\t\\t\\t\\t               28\n",
       "1-stop\\n\\t\\t\\t\\t\\t\\t\\t\\t\\t\\t\\t\\tVia VTZ\\n\\t\\t\\t\\t\\t\\t\\t\\t\\t\\t\\t\\t                   27\n",
       "1-stop\\n\\t\\t\\t\\t\\t\\t\\t\\t\\t\\t\\t\\tVia Nagpur\\n\\t\\t\\t\\t\\t\\t\\t\\t\\t\\t\\t\\t                25\n",
       "1-stop\\n\\t\\t\\t\\t\\t\\t\\t\\t\\t\\t\\t\\tVia NDC\\n\\t\\t\\t\\t\\t\\t\\t\\t\\t\\t\\t\\t                   22\n",
       "1-stop\\n\\t\\t\\t\\t\\t\\t\\t\\t\\t\\t\\t\\tVia RPR\\n\\t\\t\\t\\t\\t\\t\\t\\t\\t\\t\\t\\t                   22\n",
       "1-stop\\n\\t\\t\\t\\t\\t\\t\\t\\t\\t\\t\\t\\tVia GOP\\n\\t\\t\\t\\t\\t\\t\\t\\t\\t\\t\\t\\t                   16\n",
       "1-stop\\n\\t\\t\\t\\t\\t\\t\\t\\t\\t\\t\\t\\tVia Surat\\n\\t\\t\\t\\t\\t\\t\\t\\t\\t\\t\\t\\t                 14\n",
       "1-stop\\n\\t\\t\\t\\t\\t\\t\\t\\t\\t\\t\\t\\tVia Lucknow\\n\\t\\t\\t\\t\\t\\t\\t\\t\\t\\t\\t\\t               13\n",
       "1-stop\\n\\t\\t\\t\\t\\t\\t\\t\\t\\t\\t\\t\\tVia NAG\\n\\t\\t\\t\\t\\t\\t\\t\\t\\t\\t\\t\\t                    9\n",
       "1-stop\\n\\t\\t\\t\\t\\t\\t\\t\\t\\t\\t\\t\\tVia Vishakhapatnam\\n\\t\\t\\t\\t\\t\\t\\t\\t\\t\\t\\t\\t         8\n",
       "1-stop\\n\\t\\t\\t\\t\\t\\t\\t\\t\\t\\t\\t\\tVia Kolhapur\\n\\t\\t\\t\\t\\t\\t\\t\\t\\t\\t\\t\\t               5\n",
       "1-stop\\n\\t\\t\\t\\t\\t\\t\\t\\t\\t\\t\\t\\tVia IXR\\n\\t\\t\\t\\t\\t\\t\\t\\t\\t\\t\\t\\t                    4\n",
       "1-stop\\n\\t\\t\\t\\t\\t\\t\\t\\t\\t\\t\\t\\tVia GAY\\n\\t\\t\\t\\t\\t\\t\\t\\t\\t\\t\\t\\t                    3\n",
       "1-stop\\n\\t\\t\\t\\t\\t\\t\\t\\t\\t\\t\\t\\tVia GAU\\n\\t\\t\\t\\t\\t\\t\\t\\t\\t\\t\\t\\t                    3\n",
       "1-stop\\n\\t\\t\\t\\t\\t\\t\\t\\t\\t\\t\\t\\tVia HYD\\n\\t\\t\\t\\t\\t\\t\\t\\t\\t\\t\\t\\t                    1\n",
       "Name: stop, dtype: int64"
      ]
     },
     "execution_count": 19,
     "metadata": {},
     "output_type": "execute_result"
    }
   ],
   "source": [
    "df[\"stop\"].value_counts()"
   ]
  },
  {
   "cell_type": "code",
   "execution_count": 20,
   "id": "7b3000b0",
   "metadata": {},
   "outputs": [
    {
     "data": {
      "text/html": [
       "<div>\n",
       "<style scoped>\n",
       "    .dataframe tbody tr th:only-of-type {\n",
       "        vertical-align: middle;\n",
       "    }\n",
       "\n",
       "    .dataframe tbody tr th {\n",
       "        vertical-align: top;\n",
       "    }\n",
       "\n",
       "    .dataframe thead th {\n",
       "        text-align: right;\n",
       "    }\n",
       "</style>\n",
       "<table border=\"1\" class=\"dataframe\">\n",
       "  <thead>\n",
       "    <tr style=\"text-align: right;\">\n",
       "      <th></th>\n",
       "      <th>date</th>\n",
       "      <th>airline</th>\n",
       "      <th>ch_code</th>\n",
       "      <th>num_code</th>\n",
       "      <th>dep_time</th>\n",
       "      <th>from</th>\n",
       "      <th>time_taken</th>\n",
       "      <th>stop</th>\n",
       "      <th>arr_time</th>\n",
       "      <th>to</th>\n",
       "      <th>price</th>\n",
       "      <th>class</th>\n",
       "    </tr>\n",
       "  </thead>\n",
       "  <tbody>\n",
       "    <tr>\n",
       "      <th>0</th>\n",
       "      <td>11-02-2022</td>\n",
       "      <td>SpiceJet</td>\n",
       "      <td>SG</td>\n",
       "      <td>8709</td>\n",
       "      <td>Evening</td>\n",
       "      <td>Delhi</td>\n",
       "      <td>2.17</td>\n",
       "      <td>0</td>\n",
       "      <td>Night</td>\n",
       "      <td>Mumbai</td>\n",
       "      <td>5,953</td>\n",
       "      <td>Economy</td>\n",
       "    </tr>\n",
       "  </tbody>\n",
       "</table>\n",
       "</div>"
      ],
      "text/plain": [
       "         date   airline ch_code  num_code dep_time   from  time_taken  stop  \\\n",
       "0  11-02-2022  SpiceJet      SG      8709  Evening  Delhi        2.17     0   \n",
       "\n",
       "  arr_time      to  price    class  \n",
       "0    Night  Mumbai  5,953  Economy  "
      ]
     },
     "execution_count": 20,
     "metadata": {},
     "output_type": "execute_result"
    }
   ],
   "source": [
    "# making the stops in numeric data type by giving stops accordingly\n",
    "df[\"stop\"] = df[\"stop\"].apply(lambda r: re.sub(\"[^0-9]\",\"\",r)) # taking only digits\n",
    "df[\"stop\"] = np.where(df[\"stop\"] == \"\", 0, df[\"stop\"]) # replacign \"\" with 0\n",
    "df[\"stop\"] = df[\"stop\"].astype(int) # changing object to int\n",
    "df.head(1)"
   ]
  },
  {
   "cell_type": "markdown",
   "id": "074e1089",
   "metadata": {},
   "source": [
    "Here i have converted the value of no of stop from object to numerical by counting the stops into 0,1,2,3,..."
   ]
  },
  {
   "cell_type": "code",
   "execution_count": 21,
   "id": "52b14680",
   "metadata": {},
   "outputs": [
    {
     "data": {
      "text/plain": [
       "1    250929\n",
       "0     36044\n",
       "2     13288\n",
       "Name: stop, dtype: int64"
      ]
     },
     "execution_count": 21,
     "metadata": {},
     "output_type": "execute_result"
    }
   ],
   "source": [
    "df[\"stop\"].value_counts()"
   ]
  },
  {
   "cell_type": "code",
   "execution_count": 22,
   "id": "8d3c1b3f",
   "metadata": {},
   "outputs": [
    {
     "data": {
      "text/plain": [
       "array(['5,953', '5,956', '5,955', ..., '87,051', '74,731', '77,105'],\n",
       "      dtype=object)"
      ]
     },
     "execution_count": 22,
     "metadata": {},
     "output_type": "execute_result"
    }
   ],
   "source": [
    "df['price'].unique()"
   ]
  },
  {
   "cell_type": "code",
   "execution_count": 23,
   "id": "0e7096c2",
   "metadata": {},
   "outputs": [
    {
     "data": {
      "text/html": [
       "<div>\n",
       "<style scoped>\n",
       "    .dataframe tbody tr th:only-of-type {\n",
       "        vertical-align: middle;\n",
       "    }\n",
       "\n",
       "    .dataframe tbody tr th {\n",
       "        vertical-align: top;\n",
       "    }\n",
       "\n",
       "    .dataframe thead th {\n",
       "        text-align: right;\n",
       "    }\n",
       "</style>\n",
       "<table border=\"1\" class=\"dataframe\">\n",
       "  <thead>\n",
       "    <tr style=\"text-align: right;\">\n",
       "      <th></th>\n",
       "      <th>date</th>\n",
       "      <th>airline</th>\n",
       "      <th>ch_code</th>\n",
       "      <th>num_code</th>\n",
       "      <th>dep_time</th>\n",
       "      <th>from</th>\n",
       "      <th>time_taken</th>\n",
       "      <th>stop</th>\n",
       "      <th>arr_time</th>\n",
       "      <th>to</th>\n",
       "      <th>price</th>\n",
       "      <th>class</th>\n",
       "    </tr>\n",
       "  </thead>\n",
       "  <tbody>\n",
       "    <tr>\n",
       "      <th>0</th>\n",
       "      <td>11-02-2022</td>\n",
       "      <td>SpiceJet</td>\n",
       "      <td>SG</td>\n",
       "      <td>8709</td>\n",
       "      <td>Evening</td>\n",
       "      <td>Delhi</td>\n",
       "      <td>2.17</td>\n",
       "      <td>0</td>\n",
       "      <td>Night</td>\n",
       "      <td>Mumbai</td>\n",
       "      <td>5953</td>\n",
       "      <td>Economy</td>\n",
       "    </tr>\n",
       "  </tbody>\n",
       "</table>\n",
       "</div>"
      ],
      "text/plain": [
       "         date   airline ch_code  num_code dep_time   from  time_taken  stop  \\\n",
       "0  11-02-2022  SpiceJet      SG      8709  Evening  Delhi        2.17     0   \n",
       "\n",
       "  arr_time      to  price    class  \n",
       "0    Night  Mumbai   5953  Economy  "
      ]
     },
     "execution_count": 23,
     "metadata": {},
     "output_type": "execute_result"
    }
   ],
   "source": [
    "# removing ','  from price column\n",
    "df[\"price\"] = df[\"price\"].apply(lambda r: re.sub(\"[^0-9]\",\"\",r)) # taking only digits\n",
    "df[\"price\"] = df[\"price\"].astype(int) # changing object to int\n",
    "df.head(1)"
   ]
  },
  {
   "cell_type": "markdown",
   "id": "cc0e8cde",
   "metadata": {},
   "source": [
    "### Feature Extraction "
   ]
  },
  {
   "cell_type": "code",
   "execution_count": 24,
   "id": "ebf841db",
   "metadata": {},
   "outputs": [
    {
     "data": {
      "text/html": [
       "<div>\n",
       "<style scoped>\n",
       "    .dataframe tbody tr th:only-of-type {\n",
       "        vertical-align: middle;\n",
       "    }\n",
       "\n",
       "    .dataframe tbody tr th {\n",
       "        vertical-align: top;\n",
       "    }\n",
       "\n",
       "    .dataframe thead th {\n",
       "        text-align: right;\n",
       "    }\n",
       "</style>\n",
       "<table border=\"1\" class=\"dataframe\">\n",
       "  <thead>\n",
       "    <tr style=\"text-align: right;\">\n",
       "      <th></th>\n",
       "      <th>date</th>\n",
       "      <th>airline</th>\n",
       "      <th>ch_code</th>\n",
       "      <th>num_code</th>\n",
       "      <th>dep_time</th>\n",
       "      <th>from</th>\n",
       "      <th>time_taken</th>\n",
       "      <th>stop</th>\n",
       "      <th>arr_time</th>\n",
       "      <th>to</th>\n",
       "      <th>price</th>\n",
       "      <th>class</th>\n",
       "      <th>days_left</th>\n",
       "    </tr>\n",
       "  </thead>\n",
       "  <tbody>\n",
       "    <tr>\n",
       "      <th>229821</th>\n",
       "      <td>29-03-2022</td>\n",
       "      <td>Vistara</td>\n",
       "      <td>UK</td>\n",
       "      <td>970</td>\n",
       "      <td>Morning</td>\n",
       "      <td>Mumbai</td>\n",
       "      <td>2.25</td>\n",
       "      <td>0</td>\n",
       "      <td>Morning</td>\n",
       "      <td>Delhi</td>\n",
       "      <td>36700</td>\n",
       "      <td>Business</td>\n",
       "      <td>47</td>\n",
       "    </tr>\n",
       "    <tr>\n",
       "      <th>168230</th>\n",
       "      <td>09-03-2022</td>\n",
       "      <td>Vistara</td>\n",
       "      <td>UK</td>\n",
       "      <td>878</td>\n",
       "      <td>Afternoon</td>\n",
       "      <td>Hyderabad</td>\n",
       "      <td>9.92</td>\n",
       "      <td>1</td>\n",
       "      <td>Night</td>\n",
       "      <td>Bangalore</td>\n",
       "      <td>5441</td>\n",
       "      <td>Economy</td>\n",
       "      <td>27</td>\n",
       "    </tr>\n",
       "    <tr>\n",
       "      <th>271486</th>\n",
       "      <td>07-03-2022</td>\n",
       "      <td>Vistara</td>\n",
       "      <td>UK</td>\n",
       "      <td>778</td>\n",
       "      <td>Afternoon</td>\n",
       "      <td>Kolkata</td>\n",
       "      <td>7.58</td>\n",
       "      <td>1</td>\n",
       "      <td>Night</td>\n",
       "      <td>Hyderabad</td>\n",
       "      <td>53071</td>\n",
       "      <td>Business</td>\n",
       "      <td>25</td>\n",
       "    </tr>\n",
       "    <tr>\n",
       "      <th>169331</th>\n",
       "      <td>19-03-2022</td>\n",
       "      <td>Indigo</td>\n",
       "      <td>6E</td>\n",
       "      <td>531</td>\n",
       "      <td>Early Morning</td>\n",
       "      <td>Hyderabad</td>\n",
       "      <td>7.58</td>\n",
       "      <td>1</td>\n",
       "      <td>Afternoon</td>\n",
       "      <td>Bangalore</td>\n",
       "      <td>2526</td>\n",
       "      <td>Economy</td>\n",
       "      <td>37</td>\n",
       "    </tr>\n",
       "    <tr>\n",
       "      <th>231143</th>\n",
       "      <td>24-02-2022</td>\n",
       "      <td>Vistara</td>\n",
       "      <td>UK</td>\n",
       "      <td>954</td>\n",
       "      <td>Early Morning</td>\n",
       "      <td>Mumbai</td>\n",
       "      <td>5.83</td>\n",
       "      <td>1</td>\n",
       "      <td>Morning</td>\n",
       "      <td>Bangalore</td>\n",
       "      <td>54608</td>\n",
       "      <td>Business</td>\n",
       "      <td>14</td>\n",
       "    </tr>\n",
       "  </tbody>\n",
       "</table>\n",
       "</div>"
      ],
      "text/plain": [
       "              date  airline ch_code  num_code       dep_time       from  \\\n",
       "229821  29-03-2022  Vistara      UK       970        Morning     Mumbai   \n",
       "168230  09-03-2022  Vistara      UK       878      Afternoon  Hyderabad   \n",
       "271486  07-03-2022  Vistara      UK       778      Afternoon    Kolkata   \n",
       "169331  19-03-2022   Indigo      6E       531  Early Morning  Hyderabad   \n",
       "231143  24-02-2022  Vistara      UK       954  Early Morning     Mumbai   \n",
       "\n",
       "        time_taken  stop   arr_time         to  price     class  days_left  \n",
       "229821        2.25     0    Morning      Delhi  36700  Business         47  \n",
       "168230        9.92     1      Night  Bangalore   5441   Economy         27  \n",
       "271486        7.58     1      Night  Hyderabad  53071  Business         25  \n",
       "169331        7.58     1  Afternoon  Bangalore   2526   Economy         37  \n",
       "231143        5.83     1    Morning  Bangalore  54608  Business         14  "
      ]
     },
     "execution_count": 24,
     "metadata": {},
     "output_type": "execute_result"
    }
   ],
   "source": [
    "dd = pd.DataFrame(df[\"date\"].str.split(\"-\",expand = True).to_numpy().astype(int),columns = [\"day\",\"month\",\"year\"])\n",
    "df[\"days_left\"] = np.where(dd[\"month\"] > 2, dd[\"day\"] +18, np.where(dd[\"month\"] == 2, dd[\"day\"] -10, dd[\"day\"]))\n",
    "df.sample(5)"
   ]
  },
  {
   "cell_type": "markdown",
   "id": "0073351c",
   "metadata": {},
   "source": [
    "Here i have extracted an new feature called days_left by subtracting the trip date by the booking date. In this i have considerd 11/02/22 as the booking date for reference "
   ]
  },
  {
   "cell_type": "code",
   "execution_count": 25,
   "id": "3b4257ca",
   "metadata": {},
   "outputs": [],
   "source": [
    "# changing date type of num_code from object to str\n",
    "df[\"num_code\"]=df[\"num_code\"].astype('str')\n",
    "\n",
    "# adding column ch_code wit num_code for making new feature called flight\n",
    "df[\"flight\"] = df[\"ch_code\"] +\"-\"+ df[\"num_code\"]"
   ]
  },
  {
   "cell_type": "markdown",
   "id": "daf4e77b",
   "metadata": {},
   "source": [
    "Here i have mearged column ch_code wit num_code for making new feature called flight"
   ]
  },
  {
   "cell_type": "code",
   "execution_count": 26,
   "id": "2257fec0",
   "metadata": {},
   "outputs": [
    {
     "data": {
      "text/html": [
       "<div>\n",
       "<style scoped>\n",
       "    .dataframe tbody tr th:only-of-type {\n",
       "        vertical-align: middle;\n",
       "    }\n",
       "\n",
       "    .dataframe tbody tr th {\n",
       "        vertical-align: top;\n",
       "    }\n",
       "\n",
       "    .dataframe thead th {\n",
       "        text-align: right;\n",
       "    }\n",
       "</style>\n",
       "<table border=\"1\" class=\"dataframe\">\n",
       "  <thead>\n",
       "    <tr style=\"text-align: right;\">\n",
       "      <th></th>\n",
       "      <th>airline</th>\n",
       "      <th>dep_time</th>\n",
       "      <th>from</th>\n",
       "      <th>time_taken</th>\n",
       "      <th>stop</th>\n",
       "      <th>arr_time</th>\n",
       "      <th>to</th>\n",
       "      <th>price</th>\n",
       "      <th>class</th>\n",
       "      <th>days_left</th>\n",
       "      <th>flight</th>\n",
       "    </tr>\n",
       "  </thead>\n",
       "  <tbody>\n",
       "    <tr>\n",
       "      <th>0</th>\n",
       "      <td>SpiceJet</td>\n",
       "      <td>Evening</td>\n",
       "      <td>Delhi</td>\n",
       "      <td>2.17</td>\n",
       "      <td>0</td>\n",
       "      <td>Night</td>\n",
       "      <td>Mumbai</td>\n",
       "      <td>5953</td>\n",
       "      <td>Economy</td>\n",
       "      <td>1</td>\n",
       "      <td>SG-8709</td>\n",
       "    </tr>\n",
       "  </tbody>\n",
       "</table>\n",
       "</div>"
      ],
      "text/plain": [
       "    airline dep_time   from  time_taken  stop arr_time      to  price  \\\n",
       "0  SpiceJet  Evening  Delhi        2.17     0    Night  Mumbai   5953   \n",
       "\n",
       "     class  days_left   flight  \n",
       "0  Economy          1  SG-8709  "
      ]
     },
     "execution_count": 26,
     "metadata": {},
     "output_type": "execute_result"
    }
   ],
   "source": [
    "# Removing unnecesary columns from data\n",
    "\n",
    "df.drop([\"date\", \"ch_code\", \"num_code\"],axis = 1,inplace = True)\n",
    "\n",
    "df.head(1)"
   ]
  },
  {
   "cell_type": "code",
   "execution_count": 27,
   "id": "1a7f522a",
   "metadata": {},
   "outputs": [
    {
     "data": {
      "text/html": [
       "<div>\n",
       "<style scoped>\n",
       "    .dataframe tbody tr th:only-of-type {\n",
       "        vertical-align: middle;\n",
       "    }\n",
       "\n",
       "    .dataframe tbody tr th {\n",
       "        vertical-align: top;\n",
       "    }\n",
       "\n",
       "    .dataframe thead th {\n",
       "        text-align: right;\n",
       "    }\n",
       "</style>\n",
       "<table border=\"1\" class=\"dataframe\">\n",
       "  <thead>\n",
       "    <tr style=\"text-align: right;\">\n",
       "      <th></th>\n",
       "      <th>airline</th>\n",
       "      <th>departure_time</th>\n",
       "      <th>source_city</th>\n",
       "      <th>duration</th>\n",
       "      <th>stops</th>\n",
       "      <th>arrival_time</th>\n",
       "      <th>destination_city</th>\n",
       "      <th>price</th>\n",
       "      <th>class</th>\n",
       "      <th>days_left</th>\n",
       "      <th>flight</th>\n",
       "    </tr>\n",
       "  </thead>\n",
       "  <tbody>\n",
       "    <tr>\n",
       "      <th>0</th>\n",
       "      <td>SpiceJet</td>\n",
       "      <td>Evening</td>\n",
       "      <td>Delhi</td>\n",
       "      <td>2.17</td>\n",
       "      <td>0</td>\n",
       "      <td>Night</td>\n",
       "      <td>Mumbai</td>\n",
       "      <td>5953</td>\n",
       "      <td>Economy</td>\n",
       "      <td>1</td>\n",
       "      <td>SG-8709</td>\n",
       "    </tr>\n",
       "    <tr>\n",
       "      <th>1</th>\n",
       "      <td>SpiceJet</td>\n",
       "      <td>Early Morning</td>\n",
       "      <td>Delhi</td>\n",
       "      <td>2.33</td>\n",
       "      <td>0</td>\n",
       "      <td>Morning</td>\n",
       "      <td>Mumbai</td>\n",
       "      <td>5953</td>\n",
       "      <td>Economy</td>\n",
       "      <td>1</td>\n",
       "      <td>SG-8157</td>\n",
       "    </tr>\n",
       "    <tr>\n",
       "      <th>2</th>\n",
       "      <td>AirAsia</td>\n",
       "      <td>Early Morning</td>\n",
       "      <td>Delhi</td>\n",
       "      <td>2.17</td>\n",
       "      <td>0</td>\n",
       "      <td>Early Morning</td>\n",
       "      <td>Mumbai</td>\n",
       "      <td>5956</td>\n",
       "      <td>Economy</td>\n",
       "      <td>1</td>\n",
       "      <td>I5-764</td>\n",
       "    </tr>\n",
       "    <tr>\n",
       "      <th>3</th>\n",
       "      <td>Vistara</td>\n",
       "      <td>Morning</td>\n",
       "      <td>Delhi</td>\n",
       "      <td>2.25</td>\n",
       "      <td>0</td>\n",
       "      <td>Afternoon</td>\n",
       "      <td>Mumbai</td>\n",
       "      <td>5955</td>\n",
       "      <td>Economy</td>\n",
       "      <td>1</td>\n",
       "      <td>UK-995</td>\n",
       "    </tr>\n",
       "    <tr>\n",
       "      <th>4</th>\n",
       "      <td>Vistara</td>\n",
       "      <td>Morning</td>\n",
       "      <td>Delhi</td>\n",
       "      <td>2.33</td>\n",
       "      <td>0</td>\n",
       "      <td>Morning</td>\n",
       "      <td>Mumbai</td>\n",
       "      <td>5955</td>\n",
       "      <td>Economy</td>\n",
       "      <td>1</td>\n",
       "      <td>UK-963</td>\n",
       "    </tr>\n",
       "  </tbody>\n",
       "</table>\n",
       "</div>"
      ],
      "text/plain": [
       "    airline departure_time source_city  duration  stops   arrival_time  \\\n",
       "0  SpiceJet        Evening       Delhi      2.17      0          Night   \n",
       "1  SpiceJet  Early Morning       Delhi      2.33      0        Morning   \n",
       "2   AirAsia  Early Morning       Delhi      2.17      0  Early Morning   \n",
       "3   Vistara        Morning       Delhi      2.25      0      Afternoon   \n",
       "4   Vistara        Morning       Delhi      2.33      0        Morning   \n",
       "\n",
       "  destination_city  price    class  days_left   flight  \n",
       "0           Mumbai   5953  Economy          1  SG-8709  \n",
       "1           Mumbai   5953  Economy          1  SG-8157  \n",
       "2           Mumbai   5956  Economy          1   I5-764  \n",
       "3           Mumbai   5955  Economy          1   UK-995  \n",
       "4           Mumbai   5955  Economy          1   UK-963  "
      ]
     },
     "execution_count": 27,
     "metadata": {},
     "output_type": "execute_result"
    }
   ],
   "source": [
    "df.rename({\"dep_time\": \"departure_time\", \"from\": \"source_city\",\"time_taken\": \"duration\", \"stop\": \"stops\", \"arr_time\": \"arrival_time\",\n",
    "           \"to\":\"destination_city\"}, axis = 1, inplace = True)\n",
    "\n",
    "df.head()"
   ]
  },
  {
   "cell_type": "code",
   "execution_count": 28,
   "id": "15885822",
   "metadata": {},
   "outputs": [
    {
     "data": {
      "text/html": [
       "<div>\n",
       "<style scoped>\n",
       "    .dataframe tbody tr th:only-of-type {\n",
       "        vertical-align: middle;\n",
       "    }\n",
       "\n",
       "    .dataframe tbody tr th {\n",
       "        vertical-align: top;\n",
       "    }\n",
       "\n",
       "    .dataframe thead th {\n",
       "        text-align: right;\n",
       "    }\n",
       "</style>\n",
       "<table border=\"1\" class=\"dataframe\">\n",
       "  <thead>\n",
       "    <tr style=\"text-align: right;\">\n",
       "      <th></th>\n",
       "      <th>airline</th>\n",
       "      <th>flight</th>\n",
       "      <th>source_city</th>\n",
       "      <th>departure_time</th>\n",
       "      <th>stops</th>\n",
       "      <th>arrival_time</th>\n",
       "      <th>destination_city</th>\n",
       "      <th>class</th>\n",
       "      <th>duration</th>\n",
       "      <th>days_left</th>\n",
       "      <th>price</th>\n",
       "    </tr>\n",
       "  </thead>\n",
       "  <tbody>\n",
       "    <tr>\n",
       "      <th>0</th>\n",
       "      <td>SpiceJet</td>\n",
       "      <td>SG-8709</td>\n",
       "      <td>Delhi</td>\n",
       "      <td>Evening</td>\n",
       "      <td>0</td>\n",
       "      <td>Night</td>\n",
       "      <td>Mumbai</td>\n",
       "      <td>Economy</td>\n",
       "      <td>2.17</td>\n",
       "      <td>1</td>\n",
       "      <td>5953</td>\n",
       "    </tr>\n",
       "    <tr>\n",
       "      <th>1</th>\n",
       "      <td>SpiceJet</td>\n",
       "      <td>SG-8157</td>\n",
       "      <td>Delhi</td>\n",
       "      <td>Early Morning</td>\n",
       "      <td>0</td>\n",
       "      <td>Morning</td>\n",
       "      <td>Mumbai</td>\n",
       "      <td>Economy</td>\n",
       "      <td>2.33</td>\n",
       "      <td>1</td>\n",
       "      <td>5953</td>\n",
       "    </tr>\n",
       "    <tr>\n",
       "      <th>2</th>\n",
       "      <td>AirAsia</td>\n",
       "      <td>I5-764</td>\n",
       "      <td>Delhi</td>\n",
       "      <td>Early Morning</td>\n",
       "      <td>0</td>\n",
       "      <td>Early Morning</td>\n",
       "      <td>Mumbai</td>\n",
       "      <td>Economy</td>\n",
       "      <td>2.17</td>\n",
       "      <td>1</td>\n",
       "      <td>5956</td>\n",
       "    </tr>\n",
       "    <tr>\n",
       "      <th>3</th>\n",
       "      <td>Vistara</td>\n",
       "      <td>UK-995</td>\n",
       "      <td>Delhi</td>\n",
       "      <td>Morning</td>\n",
       "      <td>0</td>\n",
       "      <td>Afternoon</td>\n",
       "      <td>Mumbai</td>\n",
       "      <td>Economy</td>\n",
       "      <td>2.25</td>\n",
       "      <td>1</td>\n",
       "      <td>5955</td>\n",
       "    </tr>\n",
       "    <tr>\n",
       "      <th>4</th>\n",
       "      <td>Vistara</td>\n",
       "      <td>UK-963</td>\n",
       "      <td>Delhi</td>\n",
       "      <td>Morning</td>\n",
       "      <td>0</td>\n",
       "      <td>Morning</td>\n",
       "      <td>Mumbai</td>\n",
       "      <td>Economy</td>\n",
       "      <td>2.33</td>\n",
       "      <td>1</td>\n",
       "      <td>5955</td>\n",
       "    </tr>\n",
       "  </tbody>\n",
       "</table>\n",
       "</div>"
      ],
      "text/plain": [
       "    airline   flight source_city departure_time  stops   arrival_time  \\\n",
       "0  SpiceJet  SG-8709       Delhi        Evening      0          Night   \n",
       "1  SpiceJet  SG-8157       Delhi  Early Morning      0        Morning   \n",
       "2   AirAsia   I5-764       Delhi  Early Morning      0  Early Morning   \n",
       "3   Vistara   UK-995       Delhi        Morning      0      Afternoon   \n",
       "4   Vistara   UK-963       Delhi        Morning      0        Morning   \n",
       "\n",
       "  destination_city    class  duration  days_left  price  \n",
       "0           Mumbai  Economy      2.17          1   5953  \n",
       "1           Mumbai  Economy      2.33          1   5953  \n",
       "2           Mumbai  Economy      2.17          1   5956  \n",
       "3           Mumbai  Economy      2.25          1   5955  \n",
       "4           Mumbai  Economy      2.33          1   5955  "
      ]
     },
     "execution_count": 28,
     "metadata": {},
     "output_type": "execute_result"
    }
   ],
   "source": [
    "# arranging the features \n",
    "df = df[[\"airline\",\"flight\",\"source_city\",\"departure_time\",\"stops\",\n",
    "     \"arrival_time\",\"destination_city\",\"class\",\"duration\",\"days_left\",\"price\"]]\n",
    "\n",
    "df.head()"
   ]
  },
  {
   "cell_type": "markdown",
   "id": "3d9ae466",
   "metadata": {},
   "source": [
    "Renaming the Columans for better understanding"
   ]
  },
  {
   "cell_type": "code",
   "execution_count": 29,
   "id": "1d819ea7",
   "metadata": {},
   "outputs": [],
   "source": [
    "# exporting the file in csv\n",
    "#df.to_csv(\"Clean_flight_data_Vivek.csv\", index = False)"
   ]
  },
  {
   "cell_type": "markdown",
   "id": "a610b329",
   "metadata": {},
   "source": [
    "The various features of the cleaned dataset are explained below:\n",
    "\n",
    "1) Airline: The name of the airline company is stored in the airline column. It is a categorical feature having 6 different airlines.\n",
    "\n",
    "2) Flight: Flight stores information regarding the plane's flight code. It is a categorical feature.\n",
    "\n",
    "3) Source City: City from which the flight takes off. It is a categorical feature having 6 unique cities.\n",
    "\n",
    "4) Departure Time: This is a derived categorical feature obtained created by grouping time periods into bins. It stores information about the departure time and have 6 unique time labels.\n",
    "\n",
    "5) Stops: A categorical feature with 3 distinct values that stores the number of stops between the source and destination cities.\n",
    "\n",
    "6) Arrival Time: This is a derived categorical feature created by grouping time intervals into bins. It has six distinct time labels and keeps information about the arrival time.\n",
    "\n",
    "7) Destination City: City where the flight will land. It is a categorical feature having 6 unique cities.\n",
    "\n",
    "8) Class: A categorical feature that contains information on seat class; it has two distinct values: Business and Economy.\n",
    "\n",
    "9) Duration: A continuous feature that displays the overall amount of time it takes to travel between cities in hours.\n",
    "\n",
    "10)Days Left: This is a derived characteristic that is calculated by subtracting the trip date by the booking date.\n",
    "\n",
    "11) Price: Target variable stores information of the ticket price."
   ]
  },
  {
   "cell_type": "markdown",
   "id": "9d9422c4",
   "metadata": {},
   "source": [
    "## Data Visualization "
   ]
  },
  {
   "cell_type": "code",
   "execution_count": 30,
   "id": "19e26b94",
   "metadata": {},
   "outputs": [
    {
     "data": {
      "text/html": [
       "<div>\n",
       "<style scoped>\n",
       "    .dataframe tbody tr th:only-of-type {\n",
       "        vertical-align: middle;\n",
       "    }\n",
       "\n",
       "    .dataframe tbody tr th {\n",
       "        vertical-align: top;\n",
       "    }\n",
       "\n",
       "    .dataframe thead th {\n",
       "        text-align: right;\n",
       "    }\n",
       "</style>\n",
       "<table border=\"1\" class=\"dataframe\">\n",
       "  <thead>\n",
       "    <tr style=\"text-align: right;\">\n",
       "      <th></th>\n",
       "      <th>airline</th>\n",
       "      <th>flight</th>\n",
       "      <th>source_city</th>\n",
       "      <th>departure_time</th>\n",
       "      <th>stops</th>\n",
       "      <th>arrival_time</th>\n",
       "      <th>destination_city</th>\n",
       "      <th>class</th>\n",
       "      <th>duration</th>\n",
       "      <th>days_left</th>\n",
       "      <th>price</th>\n",
       "    </tr>\n",
       "  </thead>\n",
       "  <tbody>\n",
       "    <tr>\n",
       "      <th>71494</th>\n",
       "      <td>AirAsia</td>\n",
       "      <td>I5-942</td>\n",
       "      <td>Mumbai</td>\n",
       "      <td>Afternoon</td>\n",
       "      <td>1</td>\n",
       "      <td>Evening</td>\n",
       "      <td>Hyderabad</td>\n",
       "      <td>Economy</td>\n",
       "      <td>4.67</td>\n",
       "      <td>11</td>\n",
       "      <td>4259</td>\n",
       "    </tr>\n",
       "    <tr>\n",
       "      <th>132172</th>\n",
       "      <td>GO FIRST</td>\n",
       "      <td>G8-704</td>\n",
       "      <td>Kolkata</td>\n",
       "      <td>Evening</td>\n",
       "      <td>1</td>\n",
       "      <td>Night</td>\n",
       "      <td>Mumbai</td>\n",
       "      <td>Economy</td>\n",
       "      <td>6.50</td>\n",
       "      <td>30</td>\n",
       "      <td>5520</td>\n",
       "    </tr>\n",
       "    <tr>\n",
       "      <th>59215</th>\n",
       "      <td>Indigo</td>\n",
       "      <td>6E-5217</td>\n",
       "      <td>Mumbai</td>\n",
       "      <td>Evening</td>\n",
       "      <td>1</td>\n",
       "      <td>Night</td>\n",
       "      <td>Bangalore</td>\n",
       "      <td>Economy</td>\n",
       "      <td>6.50</td>\n",
       "      <td>37</td>\n",
       "      <td>4056</td>\n",
       "    </tr>\n",
       "    <tr>\n",
       "      <th>197583</th>\n",
       "      <td>Vistara</td>\n",
       "      <td>UK-824</td>\n",
       "      <td>Chennai</td>\n",
       "      <td>Night</td>\n",
       "      <td>1</td>\n",
       "      <td>Morning</td>\n",
       "      <td>Bangalore</td>\n",
       "      <td>Economy</td>\n",
       "      <td>14.25</td>\n",
       "      <td>46</td>\n",
       "      <td>4755</td>\n",
       "    </tr>\n",
       "    <tr>\n",
       "      <th>60357</th>\n",
       "      <td>Air India</td>\n",
       "      <td>AI-867</td>\n",
       "      <td>Mumbai</td>\n",
       "      <td>Night</td>\n",
       "      <td>1</td>\n",
       "      <td>Morning</td>\n",
       "      <td>Bangalore</td>\n",
       "      <td>Economy</td>\n",
       "      <td>11.42</td>\n",
       "      <td>43</td>\n",
       "      <td>6082</td>\n",
       "    </tr>\n",
       "  </tbody>\n",
       "</table>\n",
       "</div>"
      ],
      "text/plain": [
       "          airline   flight source_city departure_time  stops arrival_time  \\\n",
       "71494     AirAsia   I5-942      Mumbai      Afternoon      1      Evening   \n",
       "132172   GO FIRST   G8-704     Kolkata        Evening      1        Night   \n",
       "59215      Indigo  6E-5217      Mumbai        Evening      1        Night   \n",
       "197583    Vistara   UK-824     Chennai          Night      1      Morning   \n",
       "60357   Air India   AI-867      Mumbai          Night      1      Morning   \n",
       "\n",
       "       destination_city    class  duration  days_left  price  \n",
       "71494         Hyderabad  Economy      4.67         11   4259  \n",
       "132172           Mumbai  Economy      6.50         30   5520  \n",
       "59215         Bangalore  Economy      6.50         37   4056  \n",
       "197583        Bangalore  Economy     14.25         46   4755  \n",
       "60357         Bangalore  Economy     11.42         43   6082  "
      ]
     },
     "execution_count": 30,
     "metadata": {},
     "output_type": "execute_result"
    }
   ],
   "source": [
    "df.sample(5)"
   ]
  },
  {
   "cell_type": "code",
   "execution_count": 31,
   "id": "49fdfd6d",
   "metadata": {},
   "outputs": [
    {
     "data": {
      "text/plain": [
       "airline             0\n",
       "flight              0\n",
       "source_city         0\n",
       "departure_time      0\n",
       "stops               0\n",
       "arrival_time        0\n",
       "destination_city    0\n",
       "class               0\n",
       "duration            0\n",
       "days_left           0\n",
       "price               0\n",
       "dtype: int64"
      ]
     },
     "execution_count": 31,
     "metadata": {},
     "output_type": "execute_result"
    }
   ],
   "source": [
    "# Checking null values in the data\n",
    "df.isnull().sum()"
   ]
  },
  {
   "cell_type": "code",
   "execution_count": 32,
   "id": "25c75d5c",
   "metadata": {},
   "outputs": [
    {
     "name": "stdout",
     "output_type": "stream",
     "text": [
      "<class 'pandas.core.frame.DataFrame'>\n",
      "Int64Index: 300261 entries, 0 to 300260\n",
      "Data columns (total 11 columns):\n",
      " #   Column            Non-Null Count   Dtype  \n",
      "---  ------            --------------   -----  \n",
      " 0   airline           300261 non-null  object \n",
      " 1   flight            300261 non-null  object \n",
      " 2   source_city       300261 non-null  object \n",
      " 3   departure_time    300261 non-null  object \n",
      " 4   stops             300261 non-null  int32  \n",
      " 5   arrival_time      300261 non-null  object \n",
      " 6   destination_city  300261 non-null  object \n",
      " 7   class             300261 non-null  object \n",
      " 8   duration          300261 non-null  float64\n",
      " 9   days_left         300261 non-null  int32  \n",
      " 10  price             300261 non-null  int32  \n",
      "dtypes: float64(1), int32(3), object(7)\n",
      "memory usage: 24.1+ MB\n"
     ]
    }
   ],
   "source": [
    "# getting all the details of the data\n",
    "\n",
    "df.info()"
   ]
  },
  {
   "cell_type": "code",
   "execution_count": 33,
   "id": "96deb89c",
   "metadata": {},
   "outputs": [
    {
     "data": {
      "text/html": [
       "<div>\n",
       "<style scoped>\n",
       "    .dataframe tbody tr th:only-of-type {\n",
       "        vertical-align: middle;\n",
       "    }\n",
       "\n",
       "    .dataframe tbody tr th {\n",
       "        vertical-align: top;\n",
       "    }\n",
       "\n",
       "    .dataframe thead th {\n",
       "        text-align: right;\n",
       "    }\n",
       "</style>\n",
       "<table border=\"1\" class=\"dataframe\">\n",
       "  <thead>\n",
       "    <tr style=\"text-align: right;\">\n",
       "      <th></th>\n",
       "      <th>stops</th>\n",
       "      <th>duration</th>\n",
       "      <th>days_left</th>\n",
       "      <th>price</th>\n",
       "    </tr>\n",
       "  </thead>\n",
       "  <tbody>\n",
       "    <tr>\n",
       "      <th>count</th>\n",
       "      <td>300261.000000</td>\n",
       "      <td>300261.000000</td>\n",
       "      <td>300261.000000</td>\n",
       "      <td>300261.000000</td>\n",
       "    </tr>\n",
       "    <tr>\n",
       "      <th>mean</th>\n",
       "      <td>0.924213</td>\n",
       "      <td>12.219142</td>\n",
       "      <td>26.004473</td>\n",
       "      <td>20883.717666</td>\n",
       "    </tr>\n",
       "    <tr>\n",
       "      <th>std</th>\n",
       "      <td>0.398188</td>\n",
       "      <td>7.200348</td>\n",
       "      <td>13.560985</td>\n",
       "      <td>22695.911266</td>\n",
       "    </tr>\n",
       "    <tr>\n",
       "      <th>min</th>\n",
       "      <td>0.000000</td>\n",
       "      <td>0.830000</td>\n",
       "      <td>1.000000</td>\n",
       "      <td>1105.000000</td>\n",
       "    </tr>\n",
       "    <tr>\n",
       "      <th>25%</th>\n",
       "      <td>1.000000</td>\n",
       "      <td>6.750000</td>\n",
       "      <td>15.000000</td>\n",
       "      <td>4783.000000</td>\n",
       "    </tr>\n",
       "    <tr>\n",
       "      <th>50%</th>\n",
       "      <td>1.000000</td>\n",
       "      <td>11.250000</td>\n",
       "      <td>26.000000</td>\n",
       "      <td>7425.000000</td>\n",
       "    </tr>\n",
       "    <tr>\n",
       "      <th>75%</th>\n",
       "      <td>1.000000</td>\n",
       "      <td>16.170000</td>\n",
       "      <td>38.000000</td>\n",
       "      <td>42521.000000</td>\n",
       "    </tr>\n",
       "    <tr>\n",
       "      <th>max</th>\n",
       "      <td>2.000000</td>\n",
       "      <td>103.000000</td>\n",
       "      <td>49.000000</td>\n",
       "      <td>123071.000000</td>\n",
       "    </tr>\n",
       "  </tbody>\n",
       "</table>\n",
       "</div>"
      ],
      "text/plain": [
       "               stops       duration      days_left          price\n",
       "count  300261.000000  300261.000000  300261.000000  300261.000000\n",
       "mean        0.924213      12.219142      26.004473   20883.717666\n",
       "std         0.398188       7.200348      13.560985   22695.911266\n",
       "min         0.000000       0.830000       1.000000    1105.000000\n",
       "25%         1.000000       6.750000      15.000000    4783.000000\n",
       "50%         1.000000      11.250000      26.000000    7425.000000\n",
       "75%         1.000000      16.170000      38.000000   42521.000000\n",
       "max         2.000000     103.000000      49.000000  123071.000000"
      ]
     },
     "execution_count": 33,
     "metadata": {},
     "output_type": "execute_result"
    }
   ],
   "source": [
    "# getting all statical insights of the numarical features \n",
    "\n",
    "df.describe()"
   ]
  },
  {
   "cell_type": "markdown",
   "id": "98253406",
   "metadata": {},
   "source": [
    "#### Finding out the duplicate rows:- "
   ]
  },
  {
   "cell_type": "code",
   "execution_count": 34,
   "id": "23a44e85",
   "metadata": {},
   "outputs": [
    {
     "data": {
      "text/plain": [
       "2"
      ]
     },
     "execution_count": 34,
     "metadata": {},
     "output_type": "execute_result"
    }
   ],
   "source": [
    "# Checking Duplicate rows\n",
    "\n",
    "df.duplicated().sum()"
   ]
  },
  {
   "cell_type": "code",
   "execution_count": 35,
   "id": "39e06e4e",
   "metadata": {},
   "outputs": [
    {
     "name": "stdout",
     "output_type": "stream",
     "text": [
      "Duplicate Rows :\n"
     ]
    },
    {
     "data": {
      "text/html": [
       "<div>\n",
       "<style scoped>\n",
       "    .dataframe tbody tr th:only-of-type {\n",
       "        vertical-align: middle;\n",
       "    }\n",
       "\n",
       "    .dataframe tbody tr th {\n",
       "        vertical-align: top;\n",
       "    }\n",
       "\n",
       "    .dataframe thead th {\n",
       "        text-align: right;\n",
       "    }\n",
       "</style>\n",
       "<table border=\"1\" class=\"dataframe\">\n",
       "  <thead>\n",
       "    <tr style=\"text-align: right;\">\n",
       "      <th></th>\n",
       "      <th>airline</th>\n",
       "      <th>flight</th>\n",
       "      <th>source_city</th>\n",
       "      <th>departure_time</th>\n",
       "      <th>stops</th>\n",
       "      <th>arrival_time</th>\n",
       "      <th>destination_city</th>\n",
       "      <th>class</th>\n",
       "      <th>duration</th>\n",
       "      <th>days_left</th>\n",
       "      <th>price</th>\n",
       "    </tr>\n",
       "  </thead>\n",
       "  <tbody>\n",
       "    <tr>\n",
       "      <th>517</th>\n",
       "      <td>Air India</td>\n",
       "      <td>AI-807</td>\n",
       "      <td>Delhi</td>\n",
       "      <td>Evening</td>\n",
       "      <td>1</td>\n",
       "      <td>Morning</td>\n",
       "      <td>Mumbai</td>\n",
       "      <td>Economy</td>\n",
       "      <td>15.25</td>\n",
       "      <td>4</td>\n",
       "      <td>12150</td>\n",
       "    </tr>\n",
       "    <tr>\n",
       "      <th>6081</th>\n",
       "      <td>Air India</td>\n",
       "      <td>AI-475</td>\n",
       "      <td>Delhi</td>\n",
       "      <td>Afternoon</td>\n",
       "      <td>1</td>\n",
       "      <td>Afternoon</td>\n",
       "      <td>Mumbai</td>\n",
       "      <td>Economy</td>\n",
       "      <td>24.58</td>\n",
       "      <td>31</td>\n",
       "      <td>4780</td>\n",
       "    </tr>\n",
       "  </tbody>\n",
       "</table>\n",
       "</div>"
      ],
      "text/plain": [
       "        airline  flight source_city departure_time  stops arrival_time  \\\n",
       "517   Air India  AI-807       Delhi        Evening      1      Morning   \n",
       "6081  Air India  AI-475       Delhi      Afternoon      1    Afternoon   \n",
       "\n",
       "     destination_city    class  duration  days_left  price  \n",
       "517            Mumbai  Economy     15.25          4  12150  \n",
       "6081           Mumbai  Economy     24.58         31   4780  "
      ]
     },
     "execution_count": 35,
     "metadata": {},
     "output_type": "execute_result"
    }
   ],
   "source": [
    "# displaying duplicate rows\n",
    "\n",
    "duplicate = df[df.duplicated()]\n",
    " \n",
    "print(\"Duplicate Rows :\")\n",
    " \n",
    "# Print the resultant Dataframe\n",
    "duplicate.head()"
   ]
  },
  {
   "cell_type": "code",
   "execution_count": 36,
   "id": "de0ff589",
   "metadata": {},
   "outputs": [
    {
     "data": {
      "text/plain": [
       "(300259, 11)"
      ]
     },
     "execution_count": 36,
     "metadata": {},
     "output_type": "execute_result"
    }
   ],
   "source": [
    "# dropping the duplicate rows\n",
    "\n",
    "df.drop_duplicates(keep='first', inplace=True)\n",
    "\n",
    "df.shape"
   ]
  },
  {
   "cell_type": "markdown",
   "id": "5a52a1c2",
   "metadata": {},
   "source": [
    "### Univariate analysis For Categorical values"
   ]
  },
  {
   "cell_type": "markdown",
   "id": "958349b9",
   "metadata": {},
   "source": [
    "#### For Column Airline :-"
   ]
  },
  {
   "cell_type": "code",
   "execution_count": 37,
   "id": "52d632f8",
   "metadata": {},
   "outputs": [
    {
     "data": {
      "text/plain": [
       "array(['SpiceJet', 'AirAsia', 'Vistara', 'GO FIRST', 'Indigo',\n",
       "       'Air India', 'Trujet', 'StarAir'], dtype=object)"
      ]
     },
     "execution_count": 37,
     "metadata": {},
     "output_type": "execute_result"
    }
   ],
   "source": [
    "df[\"airline\"].unique()"
   ]
  },
  {
   "cell_type": "code",
   "execution_count": 38,
   "id": "c6e967ef",
   "metadata": {},
   "outputs": [
    {
     "name": "stdout",
     "output_type": "stream",
     "text": [
      "Total no of individual airlines counts are :\n"
     ]
    },
    {
     "data": {
      "text/html": [
       "<style type=\"text/css\">\n",
       "#T_4fd5f_row0_col0 {\n",
       "  background-color: #ffc77f;\n",
       "  color: #000000;\n",
       "}\n",
       "#T_4fd5f_row1_col0 {\n",
       "  background-color: #c77e50;\n",
       "  color: #f1f1f1;\n",
       "}\n",
       "#T_4fd5f_row2_col0 {\n",
       "  background-color: #6a432b;\n",
       "  color: #f1f1f1;\n",
       "}\n",
       "#T_4fd5f_row3_col0 {\n",
       "  background-color: #392417;\n",
       "  color: #f1f1f1;\n",
       "}\n",
       "#T_4fd5f_row4_col0 {\n",
       "  background-color: #281910;\n",
       "  color: #f1f1f1;\n",
       "}\n",
       "#T_4fd5f_row5_col0 {\n",
       "  background-color: #150d08;\n",
       "  color: #f1f1f1;\n",
       "}\n",
       "#T_4fd5f_row6_col0, #T_4fd5f_row7_col0 {\n",
       "  background-color: #000000;\n",
       "  color: #f1f1f1;\n",
       "}\n",
       "</style>\n",
       "<table id=\"T_4fd5f\">\n",
       "  <thead>\n",
       "    <tr>\n",
       "      <th class=\"blank level0\" >&nbsp;</th>\n",
       "      <th id=\"T_4fd5f_level0_col0\" class=\"col_heading level0 col0\" >airline</th>\n",
       "    </tr>\n",
       "  </thead>\n",
       "  <tbody>\n",
       "    <tr>\n",
       "      <th id=\"T_4fd5f_level0_row0\" class=\"row_heading level0 row0\" >Vistara</th>\n",
       "      <td id=\"T_4fd5f_row0_col0\" class=\"data row0 col0\" >127859</td>\n",
       "    </tr>\n",
       "    <tr>\n",
       "      <th id=\"T_4fd5f_level0_row1\" class=\"row_heading level0 row1\" >Air India</th>\n",
       "      <td id=\"T_4fd5f_row1_col0\" class=\"data row1 col0\" >80892</td>\n",
       "    </tr>\n",
       "    <tr>\n",
       "      <th id=\"T_4fd5f_level0_row2\" class=\"row_heading level0 row2\" >Indigo</th>\n",
       "      <td id=\"T_4fd5f_row2_col0\" class=\"data row2 col0\" >43120</td>\n",
       "    </tr>\n",
       "    <tr>\n",
       "      <th id=\"T_4fd5f_level0_row3\" class=\"row_heading level0 row3\" >GO FIRST</th>\n",
       "      <td id=\"T_4fd5f_row3_col0\" class=\"data row3 col0\" >23177</td>\n",
       "    </tr>\n",
       "    <tr>\n",
       "      <th id=\"T_4fd5f_level0_row4\" class=\"row_heading level0 row4\" >AirAsia</th>\n",
       "      <td id=\"T_4fd5f_row4_col0\" class=\"data row4 col0\" >16098</td>\n",
       "    </tr>\n",
       "    <tr>\n",
       "      <th id=\"T_4fd5f_level0_row5\" class=\"row_heading level0 row5\" >SpiceJet</th>\n",
       "      <td id=\"T_4fd5f_row5_col0\" class=\"data row5 col0\" >9011</td>\n",
       "    </tr>\n",
       "    <tr>\n",
       "      <th id=\"T_4fd5f_level0_row6\" class=\"row_heading level0 row6\" >StarAir</th>\n",
       "      <td id=\"T_4fd5f_row6_col0\" class=\"data row6 col0\" >61</td>\n",
       "    </tr>\n",
       "    <tr>\n",
       "      <th id=\"T_4fd5f_level0_row7\" class=\"row_heading level0 row7\" >Trujet</th>\n",
       "      <td id=\"T_4fd5f_row7_col0\" class=\"data row7 col0\" >41</td>\n",
       "    </tr>\n",
       "  </tbody>\n",
       "</table>\n"
      ],
      "text/plain": [
       "<pandas.io.formats.style.Styler at 0x261ee60d850>"
      ]
     },
     "execution_count": 38,
     "metadata": {},
     "output_type": "execute_result"
    }
   ],
   "source": [
    "print(\"Total no of individual airlines counts are :\")\n",
    "\n",
    "df[\"airline\"].value_counts().to_frame().style.background_gradient(cmap='copper')"
   ]
  },
  {
   "cell_type": "code",
   "execution_count": 39,
   "id": "f4330194",
   "metadata": {},
   "outputs": [
    {
     "data": {
      "image/png": "[encoded data removed]",
      "text/plain": [
       "<Figure size 432x288 with 1 Axes>"
      ]
     },
     "metadata": {
      "needs_background": "light"
     },
     "output_type": "display_data"
    }
   ],
   "source": [
    "df[\"airline\"].value_counts().plot(kind = \"bar\",cmap='flag')\n",
    "plt.title('Airlines',fontsize=15)\n",
    "plt.show()"
   ]
  },
  {
   "cell_type": "markdown",
   "id": "1057a983",
   "metadata": {},
   "source": [
    "    From this visuals we can see that Vistara has the maximum no of aircrafts with 127859 followed by Air India , Indigo and soo on"
   ]
  },
  {
   "cell_type": "markdown",
   "id": "38d5d7da",
   "metadata": {},
   "source": [
    "#### For column Flight "
   ]
  },
  {
   "cell_type": "code",
   "execution_count": 40,
   "id": "d979c9ac",
   "metadata": {},
   "outputs": [
    {
     "data": {
      "text/plain": [
       "1569"
      ]
     },
     "execution_count": 40,
     "metadata": {},
     "output_type": "execute_result"
    }
   ],
   "source": [
    "df[\"flight\"].nunique()"
   ]
  },
  {
   "cell_type": "markdown",
   "id": "005c988c",
   "metadata": {},
   "source": [
    "    This indicates that total no of flights there are 1569"
   ]
  },
  {
   "cell_type": "code",
   "execution_count": 41,
   "id": "a6b7443f",
   "metadata": {},
   "outputs": [
    {
     "name": "stdout",
     "output_type": "stream",
     "text": [
      "Top 10 Flight with Total no of Ticket sold :\n"
     ]
    },
    {
     "data": {
      "text/html": [
       "<style type=\"text/css\">\n",
       "#T_7a83c_row0_col0 {\n",
       "  background-color: #ffc77f;\n",
       "  color: #000000;\n",
       "}\n",
       "#T_7a83c_row1_col0 {\n",
       "  background-color: #8f5b3a;\n",
       "  color: #f1f1f1;\n",
       "}\n",
       "#T_7a83c_row2_col0 {\n",
       "  background-color: #6f462d;\n",
       "  color: #f1f1f1;\n",
       "}\n",
       "#T_7a83c_row3_col0 {\n",
       "  background-color: #4a2f1e;\n",
       "  color: #f1f1f1;\n",
       "}\n",
       "#T_7a83c_row4_col0 {\n",
       "  background-color: #301e13;\n",
       "  color: #f1f1f1;\n",
       "}\n",
       "#T_7a83c_row5_col0 {\n",
       "  background-color: #26180f;\n",
       "  color: #f1f1f1;\n",
       "}\n",
       "#T_7a83c_row6_col0 {\n",
       "  background-color: #20140d;\n",
       "  color: #f1f1f1;\n",
       "}\n",
       "#T_7a83c_row7_col0 {\n",
       "  background-color: #1a100a;\n",
       "  color: #f1f1f1;\n",
       "}\n",
       "#T_7a83c_row8_col0 {\n",
       "  background-color: #010100;\n",
       "  color: #f1f1f1;\n",
       "}\n",
       "#T_7a83c_row9_col0 {\n",
       "  background-color: #000000;\n",
       "  color: #f1f1f1;\n",
       "}\n",
       "</style>\n",
       "<table id=\"T_7a83c\">\n",
       "  <thead>\n",
       "    <tr>\n",
       "      <th class=\"blank level0\" >&nbsp;</th>\n",
       "      <th id=\"T_7a83c_level0_col0\" class=\"col_heading level0 col0\" >flight</th>\n",
       "    </tr>\n",
       "  </thead>\n",
       "  <tbody>\n",
       "    <tr>\n",
       "      <th id=\"T_7a83c_level0_row0\" class=\"row_heading level0 row0\" >UK-706</th>\n",
       "      <td id=\"T_7a83c_row0_col0\" class=\"data row0 col0\" >3235</td>\n",
       "    </tr>\n",
       "    <tr>\n",
       "      <th id=\"T_7a83c_level0_row1\" class=\"row_heading level0 row1\" >UK-772</th>\n",
       "      <td id=\"T_7a83c_row1_col0\" class=\"data row1 col0\" >2741</td>\n",
       "    </tr>\n",
       "    <tr>\n",
       "      <th id=\"T_7a83c_level0_row2\" class=\"row_heading level0 row2\" >UK-720</th>\n",
       "      <td id=\"T_7a83c_row2_col0\" class=\"data row2 col0\" >2650</td>\n",
       "    </tr>\n",
       "    <tr>\n",
       "      <th id=\"T_7a83c_level0_row3\" class=\"row_heading level0 row3\" >UK-836</th>\n",
       "      <td id=\"T_7a83c_row3_col0\" class=\"data row3 col0\" >2542</td>\n",
       "    </tr>\n",
       "    <tr>\n",
       "      <th id=\"T_7a83c_level0_row4\" class=\"row_heading level0 row4\" >UK-822</th>\n",
       "      <td id=\"T_7a83c_row4_col0\" class=\"data row4 col0\" >2468</td>\n",
       "    </tr>\n",
       "    <tr>\n",
       "      <th id=\"T_7a83c_level0_row5\" class=\"row_heading level0 row5\" >UK-828</th>\n",
       "      <td id=\"T_7a83c_row5_col0\" class=\"data row5 col0\" >2440</td>\n",
       "    </tr>\n",
       "    <tr>\n",
       "      <th id=\"T_7a83c_level0_row6\" class=\"row_heading level0 row6\" >UK-874</th>\n",
       "      <td id=\"T_7a83c_row6_col0\" class=\"data row6 col0\" >2423</td>\n",
       "    </tr>\n",
       "    <tr>\n",
       "      <th id=\"T_7a83c_level0_row7\" class=\"row_heading level0 row7\" >UK-832</th>\n",
       "      <td id=\"T_7a83c_row7_col0\" class=\"data row7 col0\" >2404</td>\n",
       "    </tr>\n",
       "    <tr>\n",
       "      <th id=\"T_7a83c_level0_row8\" class=\"row_heading level0 row8\" >UK-826</th>\n",
       "      <td id=\"T_7a83c_row8_col0\" class=\"data row8 col0\" >2335</td>\n",
       "    </tr>\n",
       "    <tr>\n",
       "      <th id=\"T_7a83c_level0_row9\" class=\"row_heading level0 row9\" >UK-860</th>\n",
       "      <td id=\"T_7a83c_row9_col0\" class=\"data row9 col0\" >2329</td>\n",
       "    </tr>\n",
       "  </tbody>\n",
       "</table>\n"
      ],
      "text/plain": [
       "<pandas.io.formats.style.Styler at 0x261f8ca44c0>"
      ]
     },
     "execution_count": 41,
     "metadata": {},
     "output_type": "execute_result"
    }
   ],
   "source": [
    "print(\"Top 10 Flight with Total no of Ticket sold :\")\n",
    "\n",
    "df[\"flight\"].value_counts().nlargest(10).to_frame().style.background_gradient(cmap='copper')"
   ]
  },
  {
   "cell_type": "markdown",
   "id": "b9031ec6",
   "metadata": {},
   "source": [
    "    From this we can clearly see that UK-706 flight has maximum no of travelers"
   ]
  },
  {
   "cell_type": "markdown",
   "id": "77b1827c",
   "metadata": {},
   "source": [
    "#### For Source City :- "
   ]
  },
  {
   "cell_type": "code",
   "execution_count": 42,
   "id": "08b9901f",
   "metadata": {},
   "outputs": [
    {
     "data": {
      "text/plain": [
       "6"
      ]
     },
     "execution_count": 42,
     "metadata": {},
     "output_type": "execute_result"
    }
   ],
   "source": [
    "# Counting total no of unique source city\n",
    "\n",
    "df[\"source_city\"].nunique()"
   ]
  },
  {
   "cell_type": "code",
   "execution_count": 43,
   "id": "2e6d2c2d",
   "metadata": {},
   "outputs": [
    {
     "data": {
      "text/plain": [
       "array(['Delhi', 'Mumbai', 'Bangalore', 'Kolkata', 'Hyderabad', 'Chennai'],\n",
       "      dtype=object)"
      ]
     },
     "execution_count": 43,
     "metadata": {},
     "output_type": "execute_result"
    }
   ],
   "source": [
    "# Displaying Source City name\n",
    "\n",
    "df[\"source_city\"].unique()"
   ]
  },
  {
   "cell_type": "code",
   "execution_count": 44,
   "id": "ecb215b0",
   "metadata": {},
   "outputs": [
    {
     "name": "stdout",
     "output_type": "stream",
     "text": [
      "Total no of Scheduled departure from Each City are :\n"
     ]
    },
    {
     "data": {
      "text/html": [
       "<style type=\"text/css\">\n",
       "#T_aaa70_row0_col0 {\n",
       "  background-color: #ffc77f;\n",
       "  color: #000000;\n",
       "}\n",
       "#T_aaa70_row1_col0 {\n",
       "  background-color: #ffc47d;\n",
       "  color: #000000;\n",
       "}\n",
       "#T_aaa70_row2_col0 {\n",
       "  background-color: #bb764b;\n",
       "  color: #f1f1f1;\n",
       "}\n",
       "#T_aaa70_row3_col0 {\n",
       "  background-color: #6a432b;\n",
       "  color: #f1f1f1;\n",
       "}\n",
       "#T_aaa70_row4_col0 {\n",
       "  background-color: #1e130c;\n",
       "  color: #f1f1f1;\n",
       "}\n",
       "#T_aaa70_row5_col0 {\n",
       "  background-color: #000000;\n",
       "  color: #f1f1f1;\n",
       "}\n",
       "</style>\n",
       "<table id=\"T_aaa70\">\n",
       "  <thead>\n",
       "    <tr>\n",
       "      <th class=\"blank level0\" >&nbsp;</th>\n",
       "      <th id=\"T_aaa70_level0_col0\" class=\"col_heading level0 col0\" >source_city</th>\n",
       "    </tr>\n",
       "  </thead>\n",
       "  <tbody>\n",
       "    <tr>\n",
       "      <th id=\"T_aaa70_level0_row0\" class=\"row_heading level0 row0\" >Delhi</th>\n",
       "      <td id=\"T_aaa70_row0_col0\" class=\"data row0 col0\" >61343</td>\n",
       "    </tr>\n",
       "    <tr>\n",
       "      <th id=\"T_aaa70_level0_row1\" class=\"row_heading level0 row1\" >Mumbai</th>\n",
       "      <td id=\"T_aaa70_row1_col0\" class=\"data row1 col0\" >60903</td>\n",
       "    </tr>\n",
       "    <tr>\n",
       "      <th id=\"T_aaa70_level0_row2\" class=\"row_heading level0 row2\" >Bangalore</th>\n",
       "      <td id=\"T_aaa70_row2_col0\" class=\"data row2 col0\" >52106</td>\n",
       "    </tr>\n",
       "    <tr>\n",
       "      <th id=\"T_aaa70_level0_row3\" class=\"row_heading level0 row3\" >Kolkata</th>\n",
       "      <td id=\"T_aaa70_row3_col0\" class=\"data row3 col0\" >46347</td>\n",
       "    </tr>\n",
       "    <tr>\n",
       "      <th id=\"T_aaa70_level0_row4\" class=\"row_heading level0 row4\" >Hyderabad</th>\n",
       "      <td id=\"T_aaa70_row4_col0\" class=\"data row4 col0\" >40860</td>\n",
       "    </tr>\n",
       "    <tr>\n",
       "      <th id=\"T_aaa70_level0_row5\" class=\"row_heading level0 row5\" >Chennai</th>\n",
       "      <td id=\"T_aaa70_row5_col0\" class=\"data row5 col0\" >38700</td>\n",
       "    </tr>\n",
       "  </tbody>\n",
       "</table>\n"
      ],
      "text/plain": [
       "<pandas.io.formats.style.Styler at 0x261856d6700>"
      ]
     },
     "execution_count": 44,
     "metadata": {},
     "output_type": "execute_result"
    }
   ],
   "source": [
    "print(\"Total no of Scheduled departure from Each City are :\")\n",
    "\n",
    "df[\"source_city\"].value_counts().to_frame().style.background_gradient(cmap='copper')"
   ]
  },
  {
   "cell_type": "code",
   "execution_count": 45,
   "id": "e93cad75",
   "metadata": {},
   "outputs": [
    {
     "data": {
      "image/png": "[encoded data removed]",
      "text/plain": [
       "<Figure size 720x1440 with 1 Axes>"
      ]
     },
     "metadata": {},
     "output_type": "display_data"
    }
   ],
   "source": [
    "plt.figure(figsize = (10,20))\n",
    "df['source_city'].value_counts().plot(kind = \"pie\", textprops={'color':'black'}, autopct = \"%.2f\",cmap = \"bwr\" )\n",
    "plt.title('Source City',fontsize=15)\n",
    "plt.show()"
   ]
  },
  {
   "cell_type": "markdown",
   "id": "2f8d8e7b",
   "metadata": {},
   "source": [
    "    From this visualization we can clearly see that Delhi has the maximum schedule departure with around 20.5%(61343) of total flight followed by Mumbai(20.28%)(60903),Bangalore(17.35%)(52106) and so on."
   ]
  },
  {
   "cell_type": "markdown",
   "id": "e1e503ef",
   "metadata": {},
   "source": [
    "#### For Column Departure_time :- "
   ]
  },
  {
   "cell_type": "code",
   "execution_count": 46,
   "id": "4e56fb5a",
   "metadata": {},
   "outputs": [
    {
     "name": "stdout",
     "output_type": "stream",
     "text": [
      "Total no of Ticket scheduled in each TimeZone are  :\n"
     ]
    },
    {
     "data": {
      "text/html": [
       "<style type=\"text/css\">\n",
       "#T_1a0a9_row0_col0 {\n",
       "  background-color: #ffffff;\n",
       "  color: #000000;\n",
       "}\n",
       "#T_1a0a9_row1_col0 {\n",
       "  background-color: #f4f4dc;\n",
       "  color: #000000;\n",
       "}\n",
       "#T_1a0a9_row2_col0 {\n",
       "  background-color: #f0f0ce;\n",
       "  color: #000000;\n",
       "}\n",
       "#T_1a0a9_row3_col0 {\n",
       "  background-color: #e0d4a8;\n",
       "  color: #000000;\n",
       "}\n",
       "#T_1a0a9_row4_col0 {\n",
       "  background-color: #dccaa3;\n",
       "  color: #000000;\n",
       "}\n",
       "#T_1a0a9_row5_col0 {\n",
       "  background-color: #1e0000;\n",
       "  color: #f1f1f1;\n",
       "}\n",
       "</style>\n",
       "<table id=\"T_1a0a9\">\n",
       "  <thead>\n",
       "    <tr>\n",
       "      <th class=\"blank level0\" >&nbsp;</th>\n",
       "      <th id=\"T_1a0a9_level0_col0\" class=\"col_heading level0 col0\" >departure_time</th>\n",
       "    </tr>\n",
       "  </thead>\n",
       "  <tbody>\n",
       "    <tr>\n",
       "      <th id=\"T_1a0a9_level0_row0\" class=\"row_heading level0 row0\" >Morning</th>\n",
       "      <td id=\"T_1a0a9_row0_col0\" class=\"data row0 col0\" >75250</td>\n",
       "    </tr>\n",
       "    <tr>\n",
       "      <th id=\"T_1a0a9_level0_row1\" class=\"row_heading level0 row1\" >Evening</th>\n",
       "      <td id=\"T_1a0a9_row1_col0\" class=\"data row1 col0\" >65416</td>\n",
       "    </tr>\n",
       "    <tr>\n",
       "      <th id=\"T_1a0a9_level0_row2\" class=\"row_heading level0 row2\" >Early Morning</th>\n",
       "      <td id=\"T_1a0a9_row2_col0\" class=\"data row2 col0\" >62042</td>\n",
       "    </tr>\n",
       "    <tr>\n",
       "      <th id=\"T_1a0a9_level0_row3\" class=\"row_heading level0 row3\" >Night</th>\n",
       "      <td id=\"T_1a0a9_row3_col0\" class=\"data row3 col0\" >49504</td>\n",
       "    </tr>\n",
       "    <tr>\n",
       "      <th id=\"T_1a0a9_level0_row4\" class=\"row_heading level0 row4\" >Afternoon</th>\n",
       "      <td id=\"T_1a0a9_row4_col0\" class=\"data row4 col0\" >46857</td>\n",
       "    </tr>\n",
       "    <tr>\n",
       "      <th id=\"T_1a0a9_level0_row5\" class=\"row_heading level0 row5\" >Late Night</th>\n",
       "      <td id=\"T_1a0a9_row5_col0\" class=\"data row5 col0\" >1190</td>\n",
       "    </tr>\n",
       "  </tbody>\n",
       "</table>\n"
      ],
      "text/plain": [
       "<pandas.io.formats.style.Styler at 0x261f9021e20>"
      ]
     },
     "execution_count": 46,
     "metadata": {},
     "output_type": "execute_result"
    }
   ],
   "source": [
    "print(\"Total no of Ticket scheduled in each TimeZone are  :\")\n",
    "\n",
    "df[\"departure_time\"].value_counts().to_frame().style.background_gradient(cmap='pink')"
   ]
  },
  {
   "cell_type": "code",
   "execution_count": 47,
   "id": "30bc26c0",
   "metadata": {},
   "outputs": [
    {
     "data": {
      "image/png": "[encoded data removed]",
      "text/plain": [
       "<Figure size 720x1440 with 1 Axes>"
      ]
     },
     "metadata": {},
     "output_type": "display_data"
    }
   ],
   "source": [
    "plt.figure(figsize = (10,20))\n",
    "df['departure_time'].value_counts().plot(kind = \"pie\", textprops={'color':'black'}, autopct = \"%.2f\",cmap = \"cool\" )\n",
    "plt.title('departure_time',fontsize=15)\n",
    "plt.show()"
   ]
  },
  {
   "cell_type": "markdown",
   "id": "5e95770c",
   "metadata": {},
   "source": [
    "    From this visualization we can clearly see that Morning has the maximum schedule departure with around 25%(75250) of total flight followed by Evening (21.78%)(60903),Early Morning(20%)(6200) and so on."
   ]
  },
  {
   "cell_type": "markdown",
   "id": "32e01d64",
   "metadata": {},
   "source": [
    "#### For Column arrival_time :-"
   ]
  },
  {
   "cell_type": "code",
   "execution_count": 48,
   "id": "4d71bbcf",
   "metadata": {},
   "outputs": [
    {
     "data": {
      "text/plain": [
       "6"
      ]
     },
     "execution_count": 48,
     "metadata": {},
     "output_type": "execute_result"
    }
   ],
   "source": [
    "# Counting total types Stops\n",
    "\n",
    "df[\"arrival_time\"].nunique()"
   ]
  },
  {
   "cell_type": "code",
   "execution_count": 49,
   "id": "75610fde",
   "metadata": {},
   "outputs": [
    {
     "name": "stdout",
     "output_type": "stream",
     "text": [
      "Total no of Ticket scheduled for arrivl in each TimeZone are  :\n"
     ]
    },
    {
     "data": {
      "text/html": [
       "<style type=\"text/css\">\n",
       "#T_b964d_row0_col0 {\n",
       "  background-color: #ffffff;\n",
       "  color: #000000;\n",
       "}\n",
       "#T_b964d_row1_col0 {\n",
       "  background-color: #ededc5;\n",
       "  color: #000000;\n",
       "}\n",
       "#T_b964d_row2_col0 {\n",
       "  background-color: #ddcda5;\n",
       "  color: #000000;\n",
       "}\n",
       "#T_b964d_row3_col0 {\n",
       "  background-color: #b17272;\n",
       "  color: #f1f1f1;\n",
       "}\n",
       "#T_b964d_row4_col0, #T_b964d_row5_col0 {\n",
       "  background-color: #1e0000;\n",
       "  color: #f1f1f1;\n",
       "}\n",
       "</style>\n",
       "<table id=\"T_b964d\">\n",
       "  <thead>\n",
       "    <tr>\n",
       "      <th class=\"blank level0\" >&nbsp;</th>\n",
       "      <th id=\"T_b964d_level0_col0\" class=\"col_heading level0 col0\" >arrival_time</th>\n",
       "    </tr>\n",
       "  </thead>\n",
       "  <tbody>\n",
       "    <tr>\n",
       "      <th id=\"T_b964d_level0_row0\" class=\"row_heading level0 row0\" >Night</th>\n",
       "      <td id=\"T_b964d_row0_col0\" class=\"data row0 col0\" >93584</td>\n",
       "    </tr>\n",
       "    <tr>\n",
       "      <th id=\"T_b964d_level0_row1\" class=\"row_heading level0 row1\" >Evening</th>\n",
       "      <td id=\"T_b964d_row1_col0\" class=\"data row1 col0\" >77104</td>\n",
       "    </tr>\n",
       "    <tr>\n",
       "      <th id=\"T_b964d_level0_row2\" class=\"row_heading level0 row2\" >Morning</th>\n",
       "      <td id=\"T_b964d_row2_col0\" class=\"data row2 col0\" >63782</td>\n",
       "    </tr>\n",
       "    <tr>\n",
       "      <th id=\"T_b964d_level0_row3\" class=\"row_heading level0 row3\" >Afternoon</th>\n",
       "      <td id=\"T_b964d_row3_col0\" class=\"data row3 col0\" >37907</td>\n",
       "    </tr>\n",
       "    <tr>\n",
       "      <th id=\"T_b964d_level0_row4\" class=\"row_heading level0 row4\" >Late Night</th>\n",
       "      <td id=\"T_b964d_row4_col0\" class=\"data row4 col0\" >14001</td>\n",
       "    </tr>\n",
       "    <tr>\n",
       "      <th id=\"T_b964d_level0_row5\" class=\"row_heading level0 row5\" >Early Morning</th>\n",
       "      <td id=\"T_b964d_row5_col0\" class=\"data row5 col0\" >13881</td>\n",
       "    </tr>\n",
       "  </tbody>\n",
       "</table>\n"
      ],
      "text/plain": [
       "<pandas.io.formats.style.Styler at 0x261856d6370>"
      ]
     },
     "execution_count": 49,
     "metadata": {},
     "output_type": "execute_result"
    }
   ],
   "source": [
    "print(\"Total no of Ticket scheduled for arrivl in each TimeZone are  :\")\n",
    "\n",
    "df[\"arrival_time\"].value_counts().to_frame().style.background_gradient(cmap='pink')"
   ]
  },
  {
   "cell_type": "code",
   "execution_count": 50,
   "id": "e3244cc2",
   "metadata": {},
   "outputs": [
    {
     "data": {
      "image/png": "[encoded data removed]",
      "text/plain": [
       "<Figure size 720x1440 with 1 Axes>"
      ]
     },
     "metadata": {},
     "output_type": "display_data"
    }
   ],
   "source": [
    "plt.figure(figsize = (10,20))\n",
    "df['arrival_time'].value_counts().plot(kind = \"pie\", textprops={'color':'black'}, autopct = \"%.2f\",cmap = \"cool\" )\n",
    "plt.title('arrival_time',fontsize=15)\n",
    "plt.show()"
   ]
  },
  {
   "cell_type": "markdown",
   "id": "25078bb4",
   "metadata": {},
   "source": [
    "    From this visualization we can clearly see that Night has the maximum schedule arrival with around 31%(93584) of total flight followed by Evening (25.68%)(77104), Morning(21.24%)(63782) and so on."
   ]
  },
  {
   "cell_type": "markdown",
   "id": "194f895c",
   "metadata": {},
   "source": [
    "#### For culumn destination_city :-\t "
   ]
  },
  {
   "cell_type": "code",
   "execution_count": 51,
   "id": "3eaf67ab",
   "metadata": {},
   "outputs": [
    {
     "data": {
      "text/plain": [
       "6"
      ]
     },
     "execution_count": 51,
     "metadata": {},
     "output_type": "execute_result"
    }
   ],
   "source": [
    "# Counting total no of unique destination city\n",
    "\n",
    "df[\"destination_city\"].nunique()"
   ]
  },
  {
   "cell_type": "code",
   "execution_count": 52,
   "id": "6476f786",
   "metadata": {},
   "outputs": [
    {
     "data": {
      "text/plain": [
       "array(['Mumbai', 'Bangalore', 'Kolkata', 'Hyderabad', 'Chennai', 'Delhi'],\n",
       "      dtype=object)"
      ]
     },
     "execution_count": 52,
     "metadata": {},
     "output_type": "execute_result"
    }
   ],
   "source": [
    "df[\"destination_city\"].unique()"
   ]
  },
  {
   "cell_type": "code",
   "execution_count": 53,
   "id": "dba99d77",
   "metadata": {},
   "outputs": [
    {
     "name": "stdout",
     "output_type": "stream",
     "text": [
      "Total no of Scheduled arrival fro Each City are :\n"
     ]
    },
    {
     "data": {
      "text/html": [
       "<style type=\"text/css\">\n",
       "#T_ac563_row0_col0 {\n",
       "  background-color: #ffc77f;\n",
       "  color: #000000;\n",
       "}\n",
       "#T_ac563_row1_col0 {\n",
       "  background-color: #ffb573;\n",
       "  color: #000000;\n",
       "}\n",
       "#T_ac563_row2_col0 {\n",
       "  background-color: #b47249;\n",
       "  color: #f1f1f1;\n",
       "}\n",
       "#T_ac563_row3_col0 {\n",
       "  background-color: #9a623e;\n",
       "  color: #f1f1f1;\n",
       "}\n",
       "#T_ac563_row4_col0 {\n",
       "  background-color: #281910;\n",
       "  color: #f1f1f1;\n",
       "}\n",
       "#T_ac563_row5_col0 {\n",
       "  background-color: #000000;\n",
       "  color: #f1f1f1;\n",
       "}\n",
       "</style>\n",
       "<table id=\"T_ac563\">\n",
       "  <thead>\n",
       "    <tr>\n",
       "      <th class=\"blank level0\" >&nbsp;</th>\n",
       "      <th id=\"T_ac563_level0_col0\" class=\"col_heading level0 col0\" >destination_city</th>\n",
       "    </tr>\n",
       "  </thead>\n",
       "  <tbody>\n",
       "    <tr>\n",
       "      <th id=\"T_ac563_level0_row0\" class=\"row_heading level0 row0\" >Mumbai</th>\n",
       "      <td id=\"T_ac563_row0_col0\" class=\"data row0 col0\" >59107</td>\n",
       "    </tr>\n",
       "    <tr>\n",
       "      <th id=\"T_ac563_level0_row1\" class=\"row_heading level0 row1\" >Delhi</th>\n",
       "      <td id=\"T_ac563_row1_col0\" class=\"data row1 col0\" >57361</td>\n",
       "    </tr>\n",
       "    <tr>\n",
       "      <th id=\"T_ac563_level0_row2\" class=\"row_heading level0 row2\" >Bangalore</th>\n",
       "      <td id=\"T_ac563_row2_col0\" class=\"data row2 col0\" >51112</td>\n",
       "    </tr>\n",
       "    <tr>\n",
       "      <th id=\"T_ac563_level0_row3\" class=\"row_heading level0 row3\" >Kolkata</th>\n",
       "      <td id=\"T_ac563_row3_col0\" class=\"data row3 col0\" >49535</td>\n",
       "    </tr>\n",
       "    <tr>\n",
       "      <th id=\"T_ac563_level0_row4\" class=\"row_heading level0 row4\" >Hyderabad</th>\n",
       "      <td id=\"T_ac563_row4_col0\" class=\"data row4 col0\" >42776</td>\n",
       "    </tr>\n",
       "    <tr>\n",
       "      <th id=\"T_ac563_level0_row5\" class=\"row_heading level0 row5\" >Chennai</th>\n",
       "      <td id=\"T_ac563_row5_col0\" class=\"data row5 col0\" >40368</td>\n",
       "    </tr>\n",
       "  </tbody>\n",
       "</table>\n"
      ],
      "text/plain": [
       "<pandas.io.formats.style.Styler at 0x261807975b0>"
      ]
     },
     "execution_count": 53,
     "metadata": {},
     "output_type": "execute_result"
    }
   ],
   "source": [
    "print(\"Total no of Scheduled arrival fro Each City are :\")\n",
    "\n",
    "df[\"destination_city\"].value_counts().to_frame().style.background_gradient(cmap='copper')"
   ]
  },
  {
   "cell_type": "code",
   "execution_count": 54,
   "id": "d0afe6d1",
   "metadata": {},
   "outputs": [
    {
     "data": {
      "image/png": "[encoded data removed]",
      "text/plain": [
       "<Figure size 720x1440 with 1 Axes>"
      ]
     },
     "metadata": {},
     "output_type": "display_data"
    }
   ],
   "source": [
    "plt.figure(figsize = (10,20))\n",
    "df['destination_city'].value_counts().plot(kind = \"pie\", textprops={'color':'black'}, autopct = \"%.2f\",cmap = \"bwr\" )\n",
    "plt.title('Destination City',fontsize=15)\n",
    "plt.show()"
   ]
  },
  {
   "cell_type": "markdown",
   "id": "84621b6e",
   "metadata": {},
   "source": [
    "    From this visualization we can clearly see that Mumbai has the maximum schedule arrival with around 19.5%(59107) of total flight followed by Delhi(19%)(57361),Bangalore(17%)(51112) and so on."
   ]
  },
  {
   "cell_type": "markdown",
   "id": "9bdf2f5b",
   "metadata": {},
   "source": [
    "#### For column Class :- "
   ]
  },
  {
   "cell_type": "code",
   "execution_count": 55,
   "id": "fd53d7cd",
   "metadata": {},
   "outputs": [
    {
     "data": {
      "text/plain": [
       "2"
      ]
     },
     "execution_count": 55,
     "metadata": {},
     "output_type": "execute_result"
    }
   ],
   "source": [
    "# Counting total no of unique Class\n",
    "\n",
    "df[\"class\"].nunique()"
   ]
  },
  {
   "cell_type": "code",
   "execution_count": 56,
   "id": "4cd509f6",
   "metadata": {},
   "outputs": [
    {
     "data": {
      "text/plain": [
       "array(['Economy', 'Business'], dtype=object)"
      ]
     },
     "execution_count": 56,
     "metadata": {},
     "output_type": "execute_result"
    }
   ],
   "source": [
    "df[\"class\"].unique()"
   ]
  },
  {
   "cell_type": "code",
   "execution_count": 57,
   "id": "e620ab54",
   "metadata": {},
   "outputs": [
    {
     "name": "stdout",
     "output_type": "stream",
     "text": [
      "Total no of Ticket sold of each class are :\n"
     ]
    },
    {
     "data": {
      "text/html": [
       "<style type=\"text/css\">\n",
       "#T_96bee_row0_col0 {\n",
       "  background-color: #ffc77f;\n",
       "  color: #000000;\n",
       "}\n",
       "#T_96bee_row1_col0 {\n",
       "  background-color: #000000;\n",
       "  color: #f1f1f1;\n",
       "}\n",
       "</style>\n",
       "<table id=\"T_96bee\">\n",
       "  <thead>\n",
       "    <tr>\n",
       "      <th class=\"blank level0\" >&nbsp;</th>\n",
       "      <th id=\"T_96bee_level0_col0\" class=\"col_heading level0 col0\" >class</th>\n",
       "    </tr>\n",
       "  </thead>\n",
       "  <tbody>\n",
       "    <tr>\n",
       "      <th id=\"T_96bee_level0_row0\" class=\"row_heading level0 row0\" >Economy</th>\n",
       "      <td id=\"T_96bee_row0_col0\" class=\"data row0 col0\" >206772</td>\n",
       "    </tr>\n",
       "    <tr>\n",
       "      <th id=\"T_96bee_level0_row1\" class=\"row_heading level0 row1\" >Business</th>\n",
       "      <td id=\"T_96bee_row1_col0\" class=\"data row1 col0\" >93487</td>\n",
       "    </tr>\n",
       "  </tbody>\n",
       "</table>\n"
      ],
      "text/plain": [
       "<pandas.io.formats.style.Styler at 0x26180c02340>"
      ]
     },
     "execution_count": 57,
     "metadata": {},
     "output_type": "execute_result"
    }
   ],
   "source": [
    "print(\"Total no of Ticket sold of each class are :\")\n",
    "\n",
    "df[\"class\"].value_counts().to_frame().style.background_gradient(cmap='copper')"
   ]
  },
  {
   "cell_type": "code",
   "execution_count": 58,
   "id": "bf8a1fab",
   "metadata": {},
   "outputs": [
    {
     "data": {
      "image/png": "[encoded data removed]",
      "text/plain": [
       "<Figure size 1080x360 with 1 Axes>"
      ]
     },
     "metadata": {},
     "output_type": "display_data"
    }
   ],
   "source": [
    "plt.figure(figsize = (15,5))\n",
    "df[\"class\"].value_counts().plot(kind = \"pie\",autopct = \"%.2f\",cmap = 'summer')\n",
    "plt.title(\"class\")\n",
    "plt.show()"
   ]
  },
  {
   "cell_type": "markdown",
   "id": "2b8825ff",
   "metadata": {},
   "source": [
    "    From this visualization we can clearly see that maximum no of ticket has been sold of economy class which is of arround (68.8%)(206772) of total ticket sold"
   ]
  },
  {
   "cell_type": "markdown",
   "id": "9bb4c5c3",
   "metadata": {},
   "source": [
    "### Univarient analysis Numerical Column "
   ]
  },
  {
   "cell_type": "code",
   "execution_count": 59,
   "id": "8b1253ca",
   "metadata": {},
   "outputs": [
    {
     "data": {
      "text/html": [
       "<div>\n",
       "<style scoped>\n",
       "    .dataframe tbody tr th:only-of-type {\n",
       "        vertical-align: middle;\n",
       "    }\n",
       "\n",
       "    .dataframe tbody tr th {\n",
       "        vertical-align: top;\n",
       "    }\n",
       "\n",
       "    .dataframe thead th {\n",
       "        text-align: right;\n",
       "    }\n",
       "</style>\n",
       "<table border=\"1\" class=\"dataframe\">\n",
       "  <thead>\n",
       "    <tr style=\"text-align: right;\">\n",
       "      <th></th>\n",
       "      <th>stops</th>\n",
       "      <th>duration</th>\n",
       "      <th>days_left</th>\n",
       "      <th>price</th>\n",
       "    </tr>\n",
       "  </thead>\n",
       "  <tbody>\n",
       "    <tr>\n",
       "      <th>count</th>\n",
       "      <td>300259.000000</td>\n",
       "      <td>300259.000000</td>\n",
       "      <td>300259.000000</td>\n",
       "      <td>300259.000000</td>\n",
       "    </tr>\n",
       "    <tr>\n",
       "      <th>mean</th>\n",
       "      <td>0.924212</td>\n",
       "      <td>12.219091</td>\n",
       "      <td>26.004529</td>\n",
       "      <td>20883.800386</td>\n",
       "    </tr>\n",
       "    <tr>\n",
       "      <th>std</th>\n",
       "      <td>0.398189</td>\n",
       "      <td>7.200335</td>\n",
       "      <td>13.560967</td>\n",
       "      <td>22695.962230</td>\n",
       "    </tr>\n",
       "    <tr>\n",
       "      <th>min</th>\n",
       "      <td>0.000000</td>\n",
       "      <td>0.830000</td>\n",
       "      <td>1.000000</td>\n",
       "      <td>1105.000000</td>\n",
       "    </tr>\n",
       "    <tr>\n",
       "      <th>25%</th>\n",
       "      <td>1.000000</td>\n",
       "      <td>6.750000</td>\n",
       "      <td>15.000000</td>\n",
       "      <td>4783.000000</td>\n",
       "    </tr>\n",
       "    <tr>\n",
       "      <th>50%</th>\n",
       "      <td>1.000000</td>\n",
       "      <td>11.250000</td>\n",
       "      <td>26.000000</td>\n",
       "      <td>7425.000000</td>\n",
       "    </tr>\n",
       "    <tr>\n",
       "      <th>75%</th>\n",
       "      <td>1.000000</td>\n",
       "      <td>16.170000</td>\n",
       "      <td>38.000000</td>\n",
       "      <td>42521.000000</td>\n",
       "    </tr>\n",
       "    <tr>\n",
       "      <th>max</th>\n",
       "      <td>2.000000</td>\n",
       "      <td>103.000000</td>\n",
       "      <td>49.000000</td>\n",
       "      <td>123071.000000</td>\n",
       "    </tr>\n",
       "  </tbody>\n",
       "</table>\n",
       "</div>"
      ],
      "text/plain": [
       "               stops       duration      days_left          price\n",
       "count  300259.000000  300259.000000  300259.000000  300259.000000\n",
       "mean        0.924212      12.219091      26.004529   20883.800386\n",
       "std         0.398189       7.200335      13.560967   22695.962230\n",
       "min         0.000000       0.830000       1.000000    1105.000000\n",
       "25%         1.000000       6.750000      15.000000    4783.000000\n",
       "50%         1.000000      11.250000      26.000000    7425.000000\n",
       "75%         1.000000      16.170000      38.000000   42521.000000\n",
       "max         2.000000     103.000000      49.000000  123071.000000"
      ]
     },
     "execution_count": 59,
     "metadata": {},
     "output_type": "execute_result"
    }
   ],
   "source": [
    "df.describe()"
   ]
  },
  {
   "cell_type": "markdown",
   "id": "8f5ad47c",
   "metadata": {},
   "source": [
    "#### For Column Stops :- "
   ]
  },
  {
   "cell_type": "code",
   "execution_count": 60,
   "id": "269067ec",
   "metadata": {},
   "outputs": [
    {
     "data": {
      "text/plain": [
       "3"
      ]
     },
     "execution_count": 60,
     "metadata": {},
     "output_type": "execute_result"
    }
   ],
   "source": [
    "# Counting total types Stops\n",
    "\n",
    "df[\"stops\"].nunique()"
   ]
  },
  {
   "cell_type": "code",
   "execution_count": 61,
   "id": "33e59695",
   "metadata": {},
   "outputs": [
    {
     "data": {
      "text/plain": [
       "array([0, 1, 2])"
      ]
     },
     "execution_count": 61,
     "metadata": {},
     "output_type": "execute_result"
    }
   ],
   "source": [
    "df[\"stops\"].unique()"
   ]
  },
  {
   "cell_type": "code",
   "execution_count": 62,
   "id": "b73cd2cc",
   "metadata": {},
   "outputs": [
    {
     "data": {
      "image/png": "[encoded data removed]",
      "text/plain": [
       "<Figure size 1080x360 with 1 Axes>"
      ]
     },
     "metadata": {},
     "output_type": "display_data"
    }
   ],
   "source": [
    "plt.figure(figsize = (15,5))\n",
    "df[\"stops\"].value_counts().plot(kind = \"pie\",autopct = \"%.2f\",cmap = 'Wistia')\n",
    "plt.title(\"Stop\")\n",
    "plt.show()"
   ]
  },
  {
   "cell_type": "code",
   "execution_count": 63,
   "id": "52104360",
   "metadata": {},
   "outputs": [
    {
     "name": "stdout",
     "output_type": "stream",
     "text": [
      "Total no of ticket with each type of Stops are :\n"
     ]
    },
    {
     "data": {
      "text/html": [
       "<style type=\"text/css\">\n",
       "#T_8e77b_row0_col0 {\n",
       "  background-color: #ffc77f;\n",
       "  color: #000000;\n",
       "}\n",
       "#T_8e77b_row1_col0 {\n",
       "  background-color: #1e130c;\n",
       "  color: #f1f1f1;\n",
       "}\n",
       "#T_8e77b_row2_col0 {\n",
       "  background-color: #000000;\n",
       "  color: #f1f1f1;\n",
       "}\n",
       "</style>\n",
       "<table id=\"T_8e77b\">\n",
       "  <thead>\n",
       "    <tr>\n",
       "      <th class=\"blank level0\" >&nbsp;</th>\n",
       "      <th id=\"T_8e77b_level0_col0\" class=\"col_heading level0 col0\" >stops</th>\n",
       "    </tr>\n",
       "  </thead>\n",
       "  <tbody>\n",
       "    <tr>\n",
       "      <th id=\"T_8e77b_level0_row0\" class=\"row_heading level0 row0\" >1</th>\n",
       "      <td id=\"T_8e77b_row0_col0\" class=\"data row0 col0\" >250927</td>\n",
       "    </tr>\n",
       "    <tr>\n",
       "      <th id=\"T_8e77b_level0_row1\" class=\"row_heading level0 row1\" >0</th>\n",
       "      <td id=\"T_8e77b_row1_col0\" class=\"data row1 col0\" >36044</td>\n",
       "    </tr>\n",
       "    <tr>\n",
       "      <th id=\"T_8e77b_level0_row2\" class=\"row_heading level0 row2\" >2</th>\n",
       "      <td id=\"T_8e77b_row2_col0\" class=\"data row2 col0\" >13288</td>\n",
       "    </tr>\n",
       "  </tbody>\n",
       "</table>\n"
      ],
      "text/plain": [
       "<pandas.io.formats.style.Styler at 0x26180c02ee0>"
      ]
     },
     "execution_count": 63,
     "metadata": {},
     "output_type": "execute_result"
    }
   ],
   "source": [
    "print(\"Total no of ticket with each type of Stops are :\")\n",
    "\n",
    "df[\"stops\"].value_counts().to_frame().style.background_gradient(cmap='copper')"
   ]
  },
  {
   "cell_type": "markdown",
   "id": "9783fbd0",
   "metadata": {},
   "source": [
    "    From this visualization we can clearly see that 1 stop destination Ticket are maximum with arround 83.5%(250927) followed by 0 stop Ticket(12%)"
   ]
  },
  {
   "cell_type": "markdown",
   "id": "ae13f107",
   "metadata": {},
   "source": [
    "#### For column duration  :- "
   ]
  },
  {
   "cell_type": "code",
   "execution_count": 64,
   "id": "575015b1",
   "metadata": {},
   "outputs": [
    {
     "data": {
      "text/plain": [
       "479"
      ]
     },
     "execution_count": 64,
     "metadata": {},
     "output_type": "execute_result"
    }
   ],
   "source": [
    "df[\"duration\"].nunique()"
   ]
  },
  {
   "cell_type": "code",
   "execution_count": 65,
   "id": "af8d3de3",
   "metadata": {},
   "outputs": [
    {
     "data": {
      "image/png": "[encoded data removed]",
      "text/plain": [
       "<Figure size 1080x432 with 1 Axes>"
      ]
     },
     "metadata": {
      "needs_background": "light"
     },
     "output_type": "display_data"
    }
   ],
   "source": [
    "plt.figure(figsize = (15,6))\n",
    "sns.histplot(data = df, x =\"duration\", bins = 50, color = \"green\", alpha =.5)\n",
    "sns.despine(top = True, right = True, left = False, bottom = False)\n",
    "plt.title(\"Distribution of duration\")\n",
    "\n",
    "plt.show()"
   ]
  },
  {
   "cell_type": "code",
   "execution_count": 66,
   "id": "fc431965",
   "metadata": {},
   "outputs": [
    {
     "data": {
      "text/plain": [
       "<AxesSubplot:xlabel='duration', ylabel='Density'>"
      ]
     },
     "execution_count": 66,
     "metadata": {},
     "output_type": "execute_result"
    },
    {
     "data": {
      "image/png": "[encoded data removed]",
      "text/plain": [
       "<Figure size 720x360 with 1 Axes>"
      ]
     },
     "metadata": {
      "needs_background": "light"
     },
     "output_type": "display_data"
    }
   ],
   "source": [
    "# distribution of data numerical column\n",
    "\n",
    "plt.figure(figsize = (10,5))  \n",
    "sns.distplot(df[\"duration\"])"
   ]
  },
  {
   "cell_type": "markdown",
   "id": "877f4491",
   "metadata": {},
   "source": [
    "    from this visualization we can see that maximum no flight duration is between 0 to 16 hours"
   ]
  },
  {
   "cell_type": "markdown",
   "id": "7ad02ebc",
   "metadata": {},
   "source": [
    "#### For column days_left :-"
   ]
  },
  {
   "cell_type": "code",
   "execution_count": 67,
   "id": "31181a42",
   "metadata": {},
   "outputs": [
    {
     "data": {
      "text/plain": [
       "49"
      ]
     },
     "execution_count": 67,
     "metadata": {},
     "output_type": "execute_result"
    }
   ],
   "source": [
    "df[\"days_left\"].nunique()"
   ]
  },
  {
   "cell_type": "code",
   "execution_count": 68,
   "id": "54975a18",
   "metadata": {},
   "outputs": [
    {
     "data": {
      "image/png": "[encoded data removed]",
      "text/plain": [
       "<Figure size 432x288 with 1 Axes>"
      ]
     },
     "metadata": {
      "needs_background": "light"
     },
     "output_type": "display_data"
    }
   ],
   "source": [
    "df[\"days_left\"].plot(kind = \"hist\", bins =50, color = \"green\", alpha =.5)\n",
    "sns.despine(top = True, right = True, left = False, bottom = False)\n",
    "plt.title(\"Distribution of days left\")\n",
    "plt.show()"
   ]
  },
  {
   "cell_type": "code",
   "execution_count": 69,
   "id": "9ca85546",
   "metadata": {},
   "outputs": [
    {
     "data": {
      "text/plain": [
       "<AxesSubplot:xlabel='days_left', ylabel='Density'>"
      ]
     },
     "execution_count": 69,
     "metadata": {},
     "output_type": "execute_result"
    },
    {
     "data": {
      "image/png": "[encoded data removed]",
      "text/plain": [
       "<Figure size 720x360 with 1 Axes>"
      ]
     },
     "metadata": {
      "needs_background": "light"
     },
     "output_type": "display_data"
    }
   ],
   "source": [
    "# distribution of data for days_left\n",
    "\n",
    "plt.figure(figsize = (10,5))  \n",
    "sns.distplot(df[\"days_left\"])"
   ]
  },
  {
   "cell_type": "markdown",
   "id": "49f9fa5c",
   "metadata": {},
   "source": [
    "    From this visualization we can clearly see that The data is normaly distributed and vary between 1 to 50 days"
   ]
  },
  {
   "cell_type": "markdown",
   "id": "ae0212e7",
   "metadata": {},
   "source": [
    "#### For column Price :-"
   ]
  },
  {
   "cell_type": "code",
   "execution_count": 70,
   "id": "1e36703b",
   "metadata": {},
   "outputs": [
    {
     "data": {
      "image/png": "[encoded data removed]",
      "text/plain": [
       "<Figure size 432x288 with 1 Axes>"
      ]
     },
     "metadata": {
      "needs_background": "light"
     },
     "output_type": "display_data"
    }
   ],
   "source": [
    "df[\"price\"].plot(kind = \"hist\", bins =50, color = \"green\", alpha =.5)\n",
    "sns.despine(top = True, right = True, left = False, bottom = False)\n",
    "plt.title(\"Distribution of price\")\n",
    "plt.show()"
   ]
  },
  {
   "cell_type": "code",
   "execution_count": 71,
   "id": "a7314ba7",
   "metadata": {},
   "outputs": [
    {
     "data": {
      "text/plain": [
       "<AxesSubplot:xlabel='price', ylabel='Density'>"
      ]
     },
     "execution_count": 71,
     "metadata": {},
     "output_type": "execute_result"
    },
    {
     "data": {
      "image/png": "[encoded data removed]",
      "text/plain": [
       "<Figure size 720x360 with 1 Axes>"
      ]
     },
     "metadata": {
      "needs_background": "light"
     },
     "output_type": "display_data"
    }
   ],
   "source": [
    "plt.figure(figsize = (10,5))  \n",
    "sns.distplot(df[\"price\"])"
   ]
  },
  {
   "cell_type": "markdown",
   "id": "e3a01f1c",
   "metadata": {},
   "source": [
    "    The data is centred around some specific and peak at around 5,000 and 50,000. Investigation relevels that a contributing factor to this is due to the flight class."
   ]
  },
  {
   "cell_type": "markdown",
   "id": "32e8e27c",
   "metadata": {},
   "source": [
    "### Bivariate anylysis "
   ]
  },
  {
   "cell_type": "code",
   "execution_count": 72,
   "id": "4243e2ce",
   "metadata": {},
   "outputs": [
    {
     "name": "stdout",
     "output_type": "stream",
     "text": [
      "<class 'pandas.core.frame.DataFrame'>\n",
      "Int64Index: 300259 entries, 0 to 300260\n",
      "Data columns (total 11 columns):\n",
      " #   Column            Non-Null Count   Dtype  \n",
      "---  ------            --------------   -----  \n",
      " 0   airline           300259 non-null  object \n",
      " 1   flight            300259 non-null  object \n",
      " 2   source_city       300259 non-null  object \n",
      " 3   departure_time    300259 non-null  object \n",
      " 4   stops             300259 non-null  int32  \n",
      " 5   arrival_time      300259 non-null  object \n",
      " 6   destination_city  300259 non-null  object \n",
      " 7   class             300259 non-null  object \n",
      " 8   duration          300259 non-null  float64\n",
      " 9   days_left         300259 non-null  int32  \n",
      " 10  price             300259 non-null  int32  \n",
      "dtypes: float64(1), int32(3), object(7)\n",
      "memory usage: 24.1+ MB\n"
     ]
    }
   ],
   "source": [
    "df.info()"
   ]
  },
  {
   "cell_type": "markdown",
   "id": "ff9175c3",
   "metadata": {},
   "source": [
    "#### 1.Does price vary with Airlines? "
   ]
  },
  {
   "cell_type": "code",
   "execution_count": 73,
   "id": "e86c449b",
   "metadata": {},
   "outputs": [
    {
     "data": {
      "text/plain": [
       "<AxesSubplot:xlabel='airline', ylabel='price'>"
      ]
     },
     "execution_count": 73,
     "metadata": {},
     "output_type": "execute_result"
    },
    {
     "data": {
      "image/png": "[encoded data removed]",
      "text/plain": [
       "<Figure size 1080x360 with 1 Axes>"
      ]
     },
     "metadata": {
      "needs_background": "light"
     },
     "output_type": "display_data"
    }
   ],
   "source": [
    "plt.figure(figsize = (15,5))\n",
    "sns.barplot(data = df, x = \"airline\" , y = \"price\")"
   ]
  },
  {
   "cell_type": "markdown",
   "id": "bf194965",
   "metadata": {},
   "source": [
    "    From this we can say that Vistara has the maximum fair comparision with other Flight"
   ]
  },
  {
   "cell_type": "markdown",
   "id": "46145c51",
   "metadata": {},
   "source": [
    "#### 2.How is the price affected when tickets are bought in just 1 or 2 days before departure?"
   ]
  },
  {
   "cell_type": "code",
   "execution_count": 74,
   "id": "1d52fef2",
   "metadata": {},
   "outputs": [
    {
     "data": {
      "text/plain": [
       "<AxesSubplot:xlabel='days_left', ylabel='price'>"
      ]
     },
     "execution_count": 74,
     "metadata": {},
     "output_type": "execute_result"
    },
    {
     "data": {
      "image/png": "[encoded data removed]",
      "text/plain": [
       "<Figure size 1080x360 with 1 Axes>"
      ]
     },
     "metadata": {
      "needs_background": "light"
     },
     "output_type": "display_data"
    }
   ],
   "source": [
    "plt.figure(figsize = (15,5))\n",
    "sns.barplot(x= \"days_left\",y = \"price\",data = df)"
   ]
  },
  {
   "cell_type": "markdown",
   "id": "307a7d73",
   "metadata": {},
   "source": [
    "    We can clearly see that Ticket price are higher if baught within 1 to 7 days"
   ]
  },
  {
   "cell_type": "markdown",
   "id": "44825822",
   "metadata": {},
   "source": [
    "####  3.Does ticket price change based on the departure time and arrival time?"
   ]
  },
  {
   "cell_type": "code",
   "execution_count": 75,
   "id": "981c28e4",
   "metadata": {},
   "outputs": [
    {
     "data": {
      "text/plain": [
       "<AxesSubplot:xlabel='arrival_time', ylabel='price'>"
      ]
     },
     "execution_count": 75,
     "metadata": {},
     "output_type": "execute_result"
    },
    {
     "data": {
      "image/png": "[encoded data removed]",
      "text/plain": [
       "<Figure size 1440x432 with 2 Axes>"
      ]
     },
     "metadata": {
      "needs_background": "light"
     },
     "output_type": "display_data"
    }
   ],
   "source": [
    "fig,ax=plt.subplots(1,2,figsize=(20,6))\n",
    "\n",
    "sns.barplot(x='departure_time',y='price',data=df,ax=ax[0])\n",
    "sns.barplot(x='arrival_time',y='price',data=df,ax=ax[1])"
   ]
  },
  {
   "cell_type": "markdown",
   "id": "7977062d",
   "metadata": {},
   "source": [
    "    From this we can say that Night has generally higher price and late night has lower price for departure_time and For arrival time evening has higher price"
   ]
  },
  {
   "cell_type": "markdown",
   "id": "46bc5957",
   "metadata": {},
   "source": [
    "#### 4.How the price changes with change in Source and Destination? "
   ]
  },
  {
   "cell_type": "code",
   "execution_count": 76,
   "id": "c15f9c36",
   "metadata": {},
   "outputs": [
    {
     "data": {
      "text/plain": [
       "<AxesSubplot:xlabel='destination_city', ylabel='price'>"
      ]
     },
     "execution_count": 76,
     "metadata": {},
     "output_type": "execute_result"
    },
    {
     "data": {
      "image/png": "[encoded data removed]",
      "text/plain": [
       "<Figure size 1440x432 with 2 Axes>"
      ]
     },
     "metadata": {
      "needs_background": "light"
     },
     "output_type": "display_data"
    }
   ],
   "source": [
    "fig,ax=plt.subplots(1,2,figsize=(20,6))\n",
    "\n",
    "sns.barplot(x='source_city',y='price',data=df,ax=ax[0])\n",
    "sns.barplot(x='destination_city',y='price',data=df,ax=ax[1])"
   ]
  },
  {
   "cell_type": "markdown",
   "id": "4393d9e9",
   "metadata": {},
   "source": [
    "    From this we can say that Chennai has maximum price to take_off and landing."
   ]
  },
  {
   "cell_type": "code",
   "execution_count": 77,
   "id": "a890a7f5",
   "metadata": {},
   "outputs": [
    {
     "data": {
      "image/png": "[encoded data removed]",
      "text/plain": [
       "<Figure size 1098.88x504 with 1 Axes>"
      ]
     },
     "metadata": {
      "needs_background": "light"
     },
     "output_type": "display_data"
    }
   ],
   "source": [
    "sns.catplot(data = df, x = \"source_city\" , y = \"price\", kind = \"strip\" , hue = \"destination_city\",aspect = 2,height = 7,jitter = 0.3)\n",
    "plt.show()"
   ]
  },
  {
   "cell_type": "markdown",
   "id": "c0e47aca",
   "metadata": {},
   "source": [
    "#### 5. How does the ticket price vary between Economy and Business class? "
   ]
  },
  {
   "cell_type": "code",
   "execution_count": 78,
   "id": "b0136827",
   "metadata": {},
   "outputs": [
    {
     "data": {
      "text/plain": [
       "<AxesSubplot:xlabel='class', ylabel='price'>"
      ]
     },
     "execution_count": 78,
     "metadata": {},
     "output_type": "execute_result"
    },
    {
     "data": {
      "image/png": "[encoded data removed]",
      "text/plain": [
       "<Figure size 1080x360 with 1 Axes>"
      ]
     },
     "metadata": {
      "needs_background": "light"
     },
     "output_type": "display_data"
    }
   ],
   "source": [
    "plt.figure(figsize = (15,5))\n",
    "sns.barplot(data = df, x = \"class\" , y = \"price\")"
   ]
  },
  {
   "cell_type": "code",
   "execution_count": 79,
   "id": "7de1ebbb",
   "metadata": {},
   "outputs": [
    {
     "data": {
      "text/plain": [
       "Text(0.5, 1.0, 'Distribution of price and airline')"
      ]
     },
     "execution_count": 79,
     "metadata": {},
     "output_type": "execute_result"
    },
    {
     "data": {
      "image/png": "[encoded data removed]",
      "text/plain": [
       "<Figure size 1080x720 with 1 Axes>"
      ]
     },
     "metadata": {
      "needs_background": "light"
     },
     "output_type": "display_data"
    }
   ],
   "source": [
    "plt.figure(figsize = (15,10))\n",
    "sns.barplot(data = df, x = \"airline\" , y = \"price\" , hue = \"class\")\n",
    "plt.title(\"Distribution of price and airline\")"
   ]
  },
  {
   "cell_type": "markdown",
   "id": "37264d41",
   "metadata": {},
   "source": [
    "    from this we can say that Business class fair maximum for vistara followed by air india."
   ]
  },
  {
   "cell_type": "markdown",
   "id": "3de6635d",
   "metadata": {},
   "source": [
    "### Feature Enginearing "
   ]
  },
  {
   "cell_type": "code",
   "execution_count": 80,
   "id": "74f2fd01",
   "metadata": {},
   "outputs": [
    {
     "data": {
      "text/html": [
       "<div>\n",
       "<style scoped>\n",
       "    .dataframe tbody tr th:only-of-type {\n",
       "        vertical-align: middle;\n",
       "    }\n",
       "\n",
       "    .dataframe tbody tr th {\n",
       "        vertical-align: top;\n",
       "    }\n",
       "\n",
       "    .dataframe thead th {\n",
       "        text-align: right;\n",
       "    }\n",
       "</style>\n",
       "<table border=\"1\" class=\"dataframe\">\n",
       "  <thead>\n",
       "    <tr style=\"text-align: right;\">\n",
       "      <th></th>\n",
       "      <th>airline</th>\n",
       "      <th>flight</th>\n",
       "      <th>source_city</th>\n",
       "      <th>departure_time</th>\n",
       "      <th>stops</th>\n",
       "      <th>arrival_time</th>\n",
       "      <th>destination_city</th>\n",
       "      <th>class</th>\n",
       "      <th>duration</th>\n",
       "      <th>days_left</th>\n",
       "      <th>price</th>\n",
       "    </tr>\n",
       "  </thead>\n",
       "  <tbody>\n",
       "    <tr>\n",
       "      <th>243949</th>\n",
       "      <td>Vistara</td>\n",
       "      <td>UK-910</td>\n",
       "      <td>Mumbai</td>\n",
       "      <td>Evening</td>\n",
       "      <td>1</td>\n",
       "      <td>Evening</td>\n",
       "      <td>Chennai</td>\n",
       "      <td>Business</td>\n",
       "      <td>22.75</td>\n",
       "      <td>34</td>\n",
       "      <td>65405</td>\n",
       "    </tr>\n",
       "    <tr>\n",
       "      <th>107054</th>\n",
       "      <td>Indigo</td>\n",
       "      <td>6E-6257</td>\n",
       "      <td>Bangalore</td>\n",
       "      <td>Early Morning</td>\n",
       "      <td>1</td>\n",
       "      <td>Afternoon</td>\n",
       "      <td>Kolkata</td>\n",
       "      <td>Economy</td>\n",
       "      <td>7.17</td>\n",
       "      <td>32</td>\n",
       "      <td>3393</td>\n",
       "    </tr>\n",
       "    <tr>\n",
       "      <th>224630</th>\n",
       "      <td>Air India</td>\n",
       "      <td>AI-865</td>\n",
       "      <td>Delhi</td>\n",
       "      <td>Morning</td>\n",
       "      <td>1</td>\n",
       "      <td>Morning</td>\n",
       "      <td>Chennai</td>\n",
       "      <td>Business</td>\n",
       "      <td>24.25</td>\n",
       "      <td>43</td>\n",
       "      <td>45257</td>\n",
       "    </tr>\n",
       "    <tr>\n",
       "      <th>164919</th>\n",
       "      <td>Vistara</td>\n",
       "      <td>UK-830</td>\n",
       "      <td>Hyderabad</td>\n",
       "      <td>Morning</td>\n",
       "      <td>1</td>\n",
       "      <td>Night</td>\n",
       "      <td>Mumbai</td>\n",
       "      <td>Economy</td>\n",
       "      <td>13.50</td>\n",
       "      <td>44</td>\n",
       "      <td>4731</td>\n",
       "    </tr>\n",
       "    <tr>\n",
       "      <th>12756</th>\n",
       "      <td>GO FIRST</td>\n",
       "      <td>G8-336</td>\n",
       "      <td>Delhi</td>\n",
       "      <td>Afternoon</td>\n",
       "      <td>1</td>\n",
       "      <td>Night</td>\n",
       "      <td>Bangalore</td>\n",
       "      <td>Economy</td>\n",
       "      <td>8.42</td>\n",
       "      <td>16</td>\n",
       "      <td>4020</td>\n",
       "    </tr>\n",
       "  </tbody>\n",
       "</table>\n",
       "</div>"
      ],
      "text/plain": [
       "          airline   flight source_city departure_time  stops arrival_time  \\\n",
       "243949    Vistara   UK-910      Mumbai        Evening      1      Evening   \n",
       "107054     Indigo  6E-6257   Bangalore  Early Morning      1    Afternoon   \n",
       "224630  Air India   AI-865       Delhi        Morning      1      Morning   \n",
       "164919    Vistara   UK-830   Hyderabad        Morning      1        Night   \n",
       "12756    GO FIRST   G8-336       Delhi      Afternoon      1        Night   \n",
       "\n",
       "       destination_city     class  duration  days_left  price  \n",
       "243949          Chennai  Business     22.75         34  65405  \n",
       "107054          Kolkata   Economy      7.17         32   3393  \n",
       "224630          Chennai  Business     24.25         43  45257  \n",
       "164919           Mumbai   Economy     13.50         44   4731  \n",
       "12756         Bangalore   Economy      8.42         16   4020  "
      ]
     },
     "execution_count": 80,
     "metadata": {},
     "output_type": "execute_result"
    }
   ],
   "source": [
    "df.sample(5)"
   ]
  },
  {
   "cell_type": "code",
   "execution_count": 81,
   "id": "865cad80",
   "metadata": {},
   "outputs": [],
   "source": [
    "#feature engineering destination and source in on column\n",
    "df[\"source_and_destination\"] = df[[\"source_city\", \"destination_city\"]].apply(lambda x: \"-\".join(x), axis=1)"
   ]
  },
  {
   "cell_type": "code",
   "execution_count": 82,
   "id": "eb4d02f7",
   "metadata": {},
   "outputs": [],
   "source": [
    "#source and destination is made it into a single column\n",
    "\n",
    "df.drop([\"source_city\",\"destination_city\"],axis=1,inplace=True)\n"
   ]
  },
  {
   "cell_type": "code",
   "execution_count": 83,
   "id": "2c588639",
   "metadata": {},
   "outputs": [],
   "source": [
    "df.to_csv(\"Model_flight_data_.csv\", index = False)"
   ]
  },
  {
   "cell_type": "markdown",
   "id": "c740543f",
   "metadata": {},
   "source": [
    "#### Converting Datatypes of each column to numerical values "
   ]
  },
  {
   "cell_type": "code",
   "execution_count": 84,
   "id": "a6d7c146",
   "metadata": {},
   "outputs": [],
   "source": [
    "# replace the value of calss column economy class 0 and business 1 and same with departure_Time and Arrival_Time\n",
    "\n",
    "df[\"class\"].replace({\"Economy\":0,\"Business\":1},inplace = True)\n",
    "df[\"departure_time\"].replace({\"Morning\":0,\"Evening\":1,\"Early Morning\":2,\"Night\":3,\"Afternoon\":4,\"Late Night\":5},inplace = True)\n",
    "df[\"arrival_time\"].replace({\"Morning\":0,\"Evening\":1,\"Early Morning\":2,\"Night\":3,\"Afternoon\":4,\"Late Night\":5},inplace = True)"
   ]
  },
  {
   "cell_type": "code",
   "execution_count": 85,
   "id": "8d749c49",
   "metadata": {},
   "outputs": [
    {
     "data": {
      "text/html": [
       "<div>\n",
       "<style scoped>\n",
       "    .dataframe tbody tr th:only-of-type {\n",
       "        vertical-align: middle;\n",
       "    }\n",
       "\n",
       "    .dataframe tbody tr th {\n",
       "        vertical-align: top;\n",
       "    }\n",
       "\n",
       "    .dataframe thead th {\n",
       "        text-align: right;\n",
       "    }\n",
       "</style>\n",
       "<table border=\"1\" class=\"dataframe\">\n",
       "  <thead>\n",
       "    <tr style=\"text-align: right;\">\n",
       "      <th></th>\n",
       "      <th>airline</th>\n",
       "      <th>flight</th>\n",
       "      <th>departure_time</th>\n",
       "      <th>stops</th>\n",
       "      <th>arrival_time</th>\n",
       "      <th>class</th>\n",
       "      <th>duration</th>\n",
       "      <th>days_left</th>\n",
       "      <th>price</th>\n",
       "      <th>source_and_destination</th>\n",
       "    </tr>\n",
       "  </thead>\n",
       "  <tbody>\n",
       "    <tr>\n",
       "      <th>8408</th>\n",
       "      <td>GO FIRST</td>\n",
       "      <td>G8-713</td>\n",
       "      <td>1</td>\n",
       "      <td>1</td>\n",
       "      <td>5</td>\n",
       "      <td>0</td>\n",
       "      <td>6.08</td>\n",
       "      <td>42</td>\n",
       "      <td>3330</td>\n",
       "      <td>Delhi-Mumbai</td>\n",
       "    </tr>\n",
       "    <tr>\n",
       "      <th>134543</th>\n",
       "      <td>Vistara</td>\n",
       "      <td>UK-720</td>\n",
       "      <td>2</td>\n",
       "      <td>1</td>\n",
       "      <td>1</td>\n",
       "      <td>0</td>\n",
       "      <td>9.33</td>\n",
       "      <td>43</td>\n",
       "      <td>6067</td>\n",
       "      <td>Kolkata-Mumbai</td>\n",
       "    </tr>\n",
       "    <tr>\n",
       "      <th>51873</th>\n",
       "      <td>Indigo</td>\n",
       "      <td>6E-439</td>\n",
       "      <td>1</td>\n",
       "      <td>0</td>\n",
       "      <td>3</td>\n",
       "      <td>0</td>\n",
       "      <td>2.17</td>\n",
       "      <td>45</td>\n",
       "      <td>3108</td>\n",
       "      <td>Mumbai-Delhi</td>\n",
       "    </tr>\n",
       "    <tr>\n",
       "      <th>58745</th>\n",
       "      <td>GO FIRST</td>\n",
       "      <td>G8-339</td>\n",
       "      <td>1</td>\n",
       "      <td>1</td>\n",
       "      <td>0</td>\n",
       "      <td>0</td>\n",
       "      <td>14.67</td>\n",
       "      <td>34</td>\n",
       "      <td>6319</td>\n",
       "      <td>Mumbai-Bangalore</td>\n",
       "    </tr>\n",
       "    <tr>\n",
       "      <th>212843</th>\n",
       "      <td>Vistara</td>\n",
       "      <td>UK-963</td>\n",
       "      <td>0</td>\n",
       "      <td>1</td>\n",
       "      <td>3</td>\n",
       "      <td>1</td>\n",
       "      <td>14.00</td>\n",
       "      <td>11</td>\n",
       "      <td>57017</td>\n",
       "      <td>Delhi-Bangalore</td>\n",
       "    </tr>\n",
       "  </tbody>\n",
       "</table>\n",
       "</div>"
      ],
      "text/plain": [
       "         airline  flight  departure_time  stops  arrival_time  class  \\\n",
       "8408    GO FIRST  G8-713               1      1             5      0   \n",
       "134543   Vistara  UK-720               2      1             1      0   \n",
       "51873     Indigo  6E-439               1      0             3      0   \n",
       "58745   GO FIRST  G8-339               1      1             0      0   \n",
       "212843   Vistara  UK-963               0      1             3      1   \n",
       "\n",
       "        duration  days_left  price source_and_destination  \n",
       "8408        6.08         42   3330           Delhi-Mumbai  \n",
       "134543      9.33         43   6067         Kolkata-Mumbai  \n",
       "51873       2.17         45   3108           Mumbai-Delhi  \n",
       "58745      14.67         34   6319       Mumbai-Bangalore  \n",
       "212843     14.00         11  57017        Delhi-Bangalore  "
      ]
     },
     "execution_count": 85,
     "metadata": {},
     "output_type": "execute_result"
    }
   ],
   "source": [
    "df.sample(5)"
   ]
  },
  {
   "cell_type": "code",
   "execution_count": 86,
   "id": "016cfd08",
   "metadata": {},
   "outputs": [],
   "source": [
    "# Import label encoder\n",
    "from sklearn import preprocessing\n",
    "  \n",
    "# label_encoder object knows how to understand word labels.\n",
    "label_encoder = preprocessing.LabelEncoder()\n",
    "  \n",
    "# Encode labels in column 'airlines'.\n",
    "\n",
    "df['airline']= label_encoder.fit_transform(df['airline'])\n",
    "\n",
    "# Encoding labels in source_and_destination.\n",
    "\n",
    "df['source_and_destination']= label_encoder.fit_transform(df['source_and_destination'])"
   ]
  },
  {
   "cell_type": "code",
   "execution_count": 87,
   "id": "7d3848f5",
   "metadata": {},
   "outputs": [
    {
     "data": {
      "text/html": [
       "<div>\n",
       "<style scoped>\n",
       "    .dataframe tbody tr th:only-of-type {\n",
       "        vertical-align: middle;\n",
       "    }\n",
       "\n",
       "    .dataframe tbody tr th {\n",
       "        vertical-align: top;\n",
       "    }\n",
       "\n",
       "    .dataframe thead th {\n",
       "        text-align: right;\n",
       "    }\n",
       "</style>\n",
       "<table border=\"1\" class=\"dataframe\">\n",
       "  <thead>\n",
       "    <tr style=\"text-align: right;\">\n",
       "      <th></th>\n",
       "      <th>airline</th>\n",
       "      <th>flight</th>\n",
       "      <th>departure_time</th>\n",
       "      <th>stops</th>\n",
       "      <th>arrival_time</th>\n",
       "      <th>class</th>\n",
       "      <th>duration</th>\n",
       "      <th>days_left</th>\n",
       "      <th>price</th>\n",
       "      <th>source_and_destination</th>\n",
       "    </tr>\n",
       "  </thead>\n",
       "  <tbody>\n",
       "    <tr>\n",
       "      <th>153533</th>\n",
       "      <td>7</td>\n",
       "      <td>UK-874</td>\n",
       "      <td>0</td>\n",
       "      <td>1</td>\n",
       "      <td>1</td>\n",
       "      <td>0</td>\n",
       "      <td>8.42</td>\n",
       "      <td>11</td>\n",
       "      <td>10018</td>\n",
       "      <td>17</td>\n",
       "    </tr>\n",
       "    <tr>\n",
       "      <th>210326</th>\n",
       "      <td>0</td>\n",
       "      <td>AI-471</td>\n",
       "      <td>4</td>\n",
       "      <td>1</td>\n",
       "      <td>1</td>\n",
       "      <td>1</td>\n",
       "      <td>4.58</td>\n",
       "      <td>34</td>\n",
       "      <td>37256</td>\n",
       "      <td>14</td>\n",
       "    </tr>\n",
       "    <tr>\n",
       "      <th>245718</th>\n",
       "      <td>0</td>\n",
       "      <td>AI-565</td>\n",
       "      <td>4</td>\n",
       "      <td>1</td>\n",
       "      <td>0</td>\n",
       "      <td>1</td>\n",
       "      <td>18.75</td>\n",
       "      <td>12</td>\n",
       "      <td>37658</td>\n",
       "      <td>1</td>\n",
       "    </tr>\n",
       "    <tr>\n",
       "      <th>11630</th>\n",
       "      <td>1</td>\n",
       "      <td>I5-798</td>\n",
       "      <td>4</td>\n",
       "      <td>2</td>\n",
       "      <td>3</td>\n",
       "      <td>0</td>\n",
       "      <td>8.25</td>\n",
       "      <td>10</td>\n",
       "      <td>16210</td>\n",
       "      <td>10</td>\n",
       "    </tr>\n",
       "    <tr>\n",
       "      <th>150605</th>\n",
       "      <td>7</td>\n",
       "      <td>UK-776</td>\n",
       "      <td>1</td>\n",
       "      <td>1</td>\n",
       "      <td>0</td>\n",
       "      <td>0</td>\n",
       "      <td>15.25</td>\n",
       "      <td>28</td>\n",
       "      <td>7021</td>\n",
       "      <td>21</td>\n",
       "    </tr>\n",
       "  </tbody>\n",
       "</table>\n",
       "</div>"
      ],
      "text/plain": [
       "        airline  flight  departure_time  stops  arrival_time  class  duration  \\\n",
       "153533        7  UK-874               0      1             1      0      8.42   \n",
       "210326        0  AI-471               4      1             1      1      4.58   \n",
       "245718        0  AI-565               4      1             0      1     18.75   \n",
       "11630         1  I5-798               4      2             3      0      8.25   \n",
       "150605        7  UK-776               1      1             0      0     15.25   \n",
       "\n",
       "        days_left  price  source_and_destination  \n",
       "153533         11  10018                      17  \n",
       "210326         34  37256                      14  \n",
       "245718         12  37658                       1  \n",
       "11630          10  16210                      10  \n",
       "150605         28   7021                      21  "
      ]
     },
     "execution_count": 87,
     "metadata": {},
     "output_type": "execute_result"
    }
   ],
   "source": [
    "df.sample(5)"
   ]
  },
  {
   "cell_type": "code",
   "execution_count": 88,
   "id": "c2ecffb9",
   "metadata": {},
   "outputs": [],
   "source": [
    "# By analysing the data based on the duration  and Flight we can observe that it didn't clearly influenced in the price in a stable way so we can remove it\n",
    "df.drop(['duration','flight'],axis=1,inplace = True)"
   ]
  },
  {
   "cell_type": "code",
   "execution_count": 89,
   "id": "bb91910d",
   "metadata": {},
   "outputs": [
    {
     "data": {
      "text/html": [
       "<div>\n",
       "<style scoped>\n",
       "    .dataframe tbody tr th:only-of-type {\n",
       "        vertical-align: middle;\n",
       "    }\n",
       "\n",
       "    .dataframe tbody tr th {\n",
       "        vertical-align: top;\n",
       "    }\n",
       "\n",
       "    .dataframe thead th {\n",
       "        text-align: right;\n",
       "    }\n",
       "</style>\n",
       "<table border=\"1\" class=\"dataframe\">\n",
       "  <thead>\n",
       "    <tr style=\"text-align: right;\">\n",
       "      <th></th>\n",
       "      <th>airline</th>\n",
       "      <th>departure_time</th>\n",
       "      <th>stops</th>\n",
       "      <th>arrival_time</th>\n",
       "      <th>class</th>\n",
       "      <th>days_left</th>\n",
       "      <th>price</th>\n",
       "      <th>source_and_destination</th>\n",
       "    </tr>\n",
       "  </thead>\n",
       "  <tbody>\n",
       "    <tr>\n",
       "      <th>43617</th>\n",
       "      <td>0</td>\n",
       "      <td>3</td>\n",
       "      <td>1</td>\n",
       "      <td>0</td>\n",
       "      <td>0</td>\n",
       "      <td>5</td>\n",
       "      <td>9828</td>\n",
       "      <td>27</td>\n",
       "    </tr>\n",
       "    <tr>\n",
       "      <th>238046</th>\n",
       "      <td>0</td>\n",
       "      <td>0</td>\n",
       "      <td>1</td>\n",
       "      <td>1</td>\n",
       "      <td>1</td>\n",
       "      <td>49</td>\n",
       "      <td>49725</td>\n",
       "      <td>29</td>\n",
       "    </tr>\n",
       "    <tr>\n",
       "      <th>272052</th>\n",
       "      <td>7</td>\n",
       "      <td>1</td>\n",
       "      <td>1</td>\n",
       "      <td>2</td>\n",
       "      <td>1</td>\n",
       "      <td>37</td>\n",
       "      <td>49207</td>\n",
       "      <td>23</td>\n",
       "    </tr>\n",
       "    <tr>\n",
       "      <th>125356</th>\n",
       "      <td>3</td>\n",
       "      <td>3</td>\n",
       "      <td>1</td>\n",
       "      <td>2</td>\n",
       "      <td>0</td>\n",
       "      <td>36</td>\n",
       "      <td>7301</td>\n",
       "      <td>22</td>\n",
       "    </tr>\n",
       "    <tr>\n",
       "      <th>55590</th>\n",
       "      <td>1</td>\n",
       "      <td>2</td>\n",
       "      <td>1</td>\n",
       "      <td>3</td>\n",
       "      <td>0</td>\n",
       "      <td>17</td>\n",
       "      <td>10952</td>\n",
       "      <td>25</td>\n",
       "    </tr>\n",
       "  </tbody>\n",
       "</table>\n",
       "</div>"
      ],
      "text/plain": [
       "        airline  departure_time  stops  arrival_time  class  days_left  price  \\\n",
       "43617         0               3      1             0      0          5   9828   \n",
       "238046        0               0      1             1      1         49  49725   \n",
       "272052        7               1      1             2      1         37  49207   \n",
       "125356        3               3      1             2      0         36   7301   \n",
       "55590         1               2      1             3      0         17  10952   \n",
       "\n",
       "        source_and_destination  \n",
       "43617                       27  \n",
       "238046                      29  \n",
       "272052                      23  \n",
       "125356                      22  \n",
       "55590                       25  "
      ]
     },
     "execution_count": 89,
     "metadata": {},
     "output_type": "execute_result"
    }
   ],
   "source": [
    "df.sample(5)"
   ]
  },
  {
   "cell_type": "code",
   "execution_count": 90,
   "id": "a38d33b6",
   "metadata": {},
   "outputs": [
    {
     "name": "stdout",
     "output_type": "stream",
     "text": [
      "<class 'pandas.core.frame.DataFrame'>\n",
      "Int64Index: 300259 entries, 0 to 300260\n",
      "Data columns (total 8 columns):\n",
      " #   Column                  Non-Null Count   Dtype\n",
      "---  ------                  --------------   -----\n",
      " 0   airline                 300259 non-null  int32\n",
      " 1   departure_time          300259 non-null  int64\n",
      " 2   stops                   300259 non-null  int32\n",
      " 3   arrival_time            300259 non-null  int64\n",
      " 4   class                   300259 non-null  int64\n",
      " 5   days_left               300259 non-null  int32\n",
      " 6   price                   300259 non-null  int32\n",
      " 7   source_and_destination  300259 non-null  int32\n",
      "dtypes: int32(5), int64(3)\n",
      "memory usage: 14.9 MB\n"
     ]
    }
   ],
   "source": [
    "df.info()"
   ]
  },
  {
   "cell_type": "code",
   "execution_count": 91,
   "id": "5aaf6b30",
   "metadata": {},
   "outputs": [],
   "source": [
    "A = {'airline':'int','departure_time':'int','stops':'int','arrival_time':'int','class':'int','days_left':'int','price':'int','source_and_destination':'int'}"
   ]
  },
  {
   "cell_type": "code",
   "execution_count": 92,
   "id": "db773835",
   "metadata": {},
   "outputs": [
    {
     "name": "stdout",
     "output_type": "stream",
     "text": [
      "airline                   int32\n",
      "departure_time            int32\n",
      "stops                     int32\n",
      "arrival_time              int32\n",
      "class                     int32\n",
      "days_left                 int32\n",
      "price                     int32\n",
      "source_and_destination    int32\n",
      "dtype: object\n"
     ]
    }
   ],
   "source": [
    "df = df.astype(A)\n",
    "print(df.dtypes)"
   ]
  },
  {
   "cell_type": "code",
   "execution_count": 93,
   "id": "407f3643",
   "metadata": {},
   "outputs": [],
   "source": [
    "#df.to_csv(\"Model_flight_data_Vivek.csv\", index = False)"
   ]
  },
  {
   "cell_type": "markdown",
   "id": "fe14c0a5",
   "metadata": {},
   "source": [
    "### Model Building "
   ]
  },
  {
   "cell_type": "code",
   "execution_count": 94,
   "id": "04e7fd04",
   "metadata": {},
   "outputs": [],
   "source": [
    "# Splitting the data into X,y\n",
    "X = df.drop('price',axis=1).values\n",
    "Y = df['price'].values.reshape(-1,1)"
   ]
  },
  {
   "cell_type": "code",
   "execution_count": 95,
   "id": "56eafd43",
   "metadata": {},
   "outputs": [],
   "source": [
    "from sklearn.model_selection import train_test_split\n",
    "# using the train test split function\n",
    "X_train, X_test, Y_train, Y_test = train_test_split(X,Y, test_size=0.20, random_state=42)"
   ]
  },
  {
   "cell_type": "code",
   "execution_count": 96,
   "id": "ea99ade2",
   "metadata": {},
   "outputs": [],
   "source": [
    "from sklearn.preprocessing import StandardScaler\n",
    "scaler=StandardScaler()\n",
    "X_train=scaler.fit_transform(X_train)\n",
    "X_test=scaler.transform(X_test)"
   ]
  },
  {
   "cell_type": "code",
   "execution_count": 97,
   "id": "49be2073",
   "metadata": {},
   "outputs": [],
   "source": [
    "import pickle\n",
    "pickle.dump(scaler,open('scaling.pkl','wb'))"
   ]
  },
  {
   "cell_type": "code",
   "execution_count": 98,
   "id": "89ee30ff",
   "metadata": {},
   "outputs": [],
   "source": [
    "from sklearn.metrics import mean_squared_error,r2_score,mean_absolute_error\n",
    "from sklearn.tree import DecisionTreeRegressor"
   ]
  },
  {
   "cell_type": "code",
   "execution_count": 99,
   "id": "788415a9",
   "metadata": {},
   "outputs": [
    {
     "name": "stdout",
     "output_type": "stream",
     "text": [
      "r2 score for the model is 95.29417379696167\n"
     ]
    }
   ],
   "source": [
    "regressor = DecisionTreeRegressor()\n",
    "regressor.fit(X_train,Y_train)\n",
    "Y_pred = regressor.predict(X_test)\n",
    "r2 = r2_score( Y_test, Y_pred)\n",
    "print('r2 score for the model is', r2*100)"
   ]
  },
  {
   "cell_type": "markdown",
   "id": "aace8db0",
   "metadata": {},
   "source": [
    "## Pickling the model file for deployment "
   ]
  },
  {
   "cell_type": "code",
   "execution_count": 100,
   "id": "9ff0b7c5",
   "metadata": {},
   "outputs": [],
   "source": [
    "import pickle"
   ]
  },
  {
   "cell_type": "code",
   "execution_count": 101,
   "id": "3b8f1237",
   "metadata": {},
   "outputs": [],
   "source": [
    "pickle.dump(regressor,open('regmodel.pkl','wb'))"
   ]
  },
  {
   "cell_type": "code",
   "execution_count": 102,
   "id": "ddb89f70",
   "metadata": {},
   "outputs": [],
   "source": [
    "pickled_model = pickle.load(open('regmodel.pkl','rb'))"
   ]
  },
  {
   "cell_type": "code",
   "execution_count": 103,
   "id": "08dee18c",
   "metadata": {},
   "outputs": [
    {
     "data": {
      "text/plain": [
       "array([34460. , 38099. , 13147.5, ...,  5915. ,  4755. ,  7476. ])"
      ]
     },
     "execution_count": 103,
     "metadata": {},
     "output_type": "execute_result"
    }
   ],
   "source": [
    "# Prediction From Pickeled File\n",
    "\n",
    "pickled_model.predict(X_test)"
   ]
  },
  {
   "cell_type": "code",
   "execution_count": null,
   "id": "afeecdf2",
   "metadata": {},
   "outputs": [],
   "source": []
  },
  {
   "cell_type": "code",
   "execution_count": null,
   "id": "e385644d",
   "metadata": {},
   "outputs": [],
   "source": []
  }
 ],
 "metadata": {
  "kernelspec": {
   "display_name": "Python 3 (ipykernel)",
   "language": "python",
   "name": "python3"
  },
  "language_info": {
   "codemirror_mode": {
    "name": "ipython",
    "version": 3
   },
   "file_extension": ".py",
   "mimetype": "text/x-python",
   "name": "python",
   "nbconvert_exporter": "python",
   "pygments_lexer": "ipython3",
   "version": "3.9.12"
  }
 },
 "nbformat": 4,
 "nbformat_minor": 5
}
